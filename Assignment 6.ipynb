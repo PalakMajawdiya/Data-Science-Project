{
 "cells": [
  {
   "cell_type": "markdown",
   "metadata": {},
   "source": [
    "**Linear Regression**"
   ]
  },
  {
   "cell_type": "code",
   "execution_count": 4,
   "metadata": {},
   "outputs": [
    {
     "data": {
      "image/png": "[encoded data removed]",
      "text/plain": [
       "<Figure size 432x288 with 1 Axes>"
      ]
     },
     "metadata": {
      "needs_background": "light"
     },
     "output_type": "display_data"
    },
    {
     "name": "stdout",
     "output_type": "stream",
     "text": [
      " Correlation coefficient is  0.9949530662153313\n"
     ]
    }
   ],
   "source": [
    "import numpy as np\n",
    "import matplotlib.pyplot as plt\n",
    "import csv\n",
    "x = []\n",
    "y = []\n",
    "with open(r\"C:\\Users\\hp\\Documents\\Book1.csv\") as f:\n",
    "    reader = csv.reader(f)\n",
    "    for row in reader:\n",
    "        x.append(float(row[0]))\n",
    "        y.append(float(row[1]))\n",
    "plt.scatter(x,y)\n",
    "\n",
    "plt.xlabel(\"This is x\")\n",
    "plt.ylabel(\"This is y\")\n",
    "\n",
    "plt.title(\"Linear Regression Scatter Plot\")\n",
    "plt.show()\n",
    "\n",
    "# correlation coefficient\n",
    "def find_corr_x_y(x,y):\n",
    "    n = len(x)\n",
    "    # find the sum of products\n",
    "    prod = []\n",
    "    for xi , yi in zip(x,y):\n",
    "        prod.append(xi*yi)\n",
    "        \n",
    "    sum_prod_x_y = sum(prod)\n",
    "    sum_x = sum(x)\n",
    "    sum_y = sum(y)\n",
    "    squared_sum_x = sum_x**2\n",
    "    squared_sum_y = sum_y**2\n",
    "    x_square =[]\n",
    "        \n",
    "    for xi in x:\n",
    "        x_square.append(xi**2)\n",
    "    # find the sum\n",
    "    x_square_sum = sum(x_square)\n",
    "    y_square = []\n",
    "         \n",
    "    for yi in y:\n",
    "            y_square.append(yi**2)\n",
    "            \n",
    "        # find the sum\n",
    "    y_square_sum = sum(y_square)\n",
    "            \n",
    "        # use formula to calculate correlation\n",
    "    numerator = n*sum_prod_x_y - sum_x*sum_y\n",
    "    denominator_term1 = n*x_square_sum - squared_sum_x\n",
    "    denominator_term2 = n*y_square_sum - squared_sum_y\n",
    "    denominator = (denominator_term1*denominator_term2)**0.5\n",
    "    correlation = numerator/denominator\n",
    "            \n",
    "    return correlation\n",
    "print( \" Correlation coefficient is \",find_corr_x_y(x,y))\n"
   ]
  },
  {
   "cell_type": "markdown",
   "metadata": {},
   "source": [
    "**So here the value of correlation coefficient is positive and in between -1.0 to +1.0 which shows that there is a linear\n",
    "relationship between x and y**"
   ]
  },
  {
   "cell_type": "code",
   "execution_count": 7,
   "metadata": {},
   "outputs": [
    {
     "name": "stdout",
     "output_type": "stream",
     "text": [
      "0.995570356119447\n",
      "-0.03728651428244234\n"
     ]
    }
   ],
   "source": [
    "# calculate coefficient of beta_0 and beta_1\n",
    "num = 0\n",
    "den = 0\n",
    "m_x = np.mean(x)\n",
    "m_y = np.mean(y)\n",
    "for i in range(len(x)):\n",
    "    num = num + (x[i] - m_x )*(y[i] - m_y)\n",
    "    den = den + (x[i] - m_x)**2\n",
    "beta_1 = num/den\n",
    "beta_0 = m_y - beta_1*m_x\n",
    "print(beta_1)\n",
    "print(beta_0)"
   ]
  },
  {
   "cell_type": "code",
   "execution_count": 8,
   "metadata": {},
   "outputs": [
    {
     "name": "stdout",
     "output_type": "stream",
     "text": [
      "[23.856402032584285, 49.74123129168991, 14.896268827509262, 37.79438701825654, 86.57733446810944, 35.80324630601765, 11.909557759150921, 80.60391233139276, 24.851972388703732, 4.940565266314793, 15.89183918362871, 15.89183918362871, 23.856402032584285, 38.78995737437599, 53.7235127161677, 59.696934852884375, 25.84754274482318, 72.63934948243718, 28.83425381318152, 30.825394525420414, 67.66149770183995, 86.57733446810944, 57.70579414064548, 53.7235127161677, 83.59062339975111, 57.70579414064548, 48.74566093557046, 19.874120608106498, 89.56404553646779, 47.75009057945101, 3.9449949101953456, 24.851972388703732, 41.776668442734334, -0.03728651428244234, 59.696934852884375, 92.55075660482613, 38.78995737437599, 6.931705978553687, 20.869690964225946, 67.66149770183995, 83.59062339975111, -0.03728651428244234, 57.70579414064548, 18.87855025198705, 35.80324630601765, 18.87855025198705, 58.70136449676493, 50.73680164780936, 18.87855025198705, 32.81653523765931]\n"
     ]
    }
   ],
   "source": [
    "# now predicted values of y\n",
    "beta_1 = 0.995570356119447\n",
    "beta_0 = -0.03728651428244234\n",
    "Y_pred = []\n",
    "for i in range(len(x)):\n",
    "    Y_pred.append(beta_1 * x[i] + beta_0)\n",
    "print(Y_pred)"
   ]
  },
  {
   "cell_type": "code",
   "execution_count": 5,
   "metadata": {},
   "outputs": [
    {
     "data": {
      "image/png": "[encoded data removed]",
      "text/plain": [
       "<Figure size 432x288 with 1 Axes>"
      ]
     },
     "metadata": {
      "needs_background": "light"
     },
     "output_type": "display_data"
    }
   ],
   "source": [
    "# now fit the model\n",
    "plt.scatter(x , y  , label = \"data points\")\n",
    "plt.plot([min(x) , max(x)] , [min(Y_pred) , max(Y_pred)] , color = \"red\" , label = \"Fitted line\")\n",
    "plt.xlabel(\"This is X\")\n",
    "plt.ylabel(\"This is Y\")\n",
    "plt.legend()\n",
    "plt.show()"
   ]
  },
  {
   "cell_type": "code",
   "execution_count": 24,
   "metadata": {},
   "outputs": [
    {
     "name": "stdout",
     "output_type": "stream",
     "text": [
      "SS residual is  338.28735561201614\n",
      "R_square is  0.9899316039712872\n",
      "None\n"
     ]
    }
   ],
   "source": [
    "# finding residual\n",
    "def r_square(x,y):\n",
    "    m_y = np.mean(y)\n",
    "    n = len(y)\n",
    "    Y = np.array(y)\n",
    "    error = Y - Y_pred\n",
    "    SS_res = np.sum(error**2)\n",
    "    print(\"SS residual is \",SS_res)\n",
    "    SS_total = np.sum((Y - m_y)**2)\n",
    "    R_square = 1-(se/sst)\n",
    "    print(\"R_square is \", R_square)\n",
    "print(r_square(x,y))"
   ]
  },
  {
   "cell_type": "markdown",
   "metadata": {},
   "source": [
    "**so the value of r square tells us how well the model fits the data and ranmge is between 0<= r_square <=1\n",
    "\"Higher the value of R_square , the better the model will be\"**"
   ]
  },
  {
   "cell_type": "code",
   "execution_count": 53,
   "metadata": {},
   "outputs": [
    {
     "name": "stdout",
     "output_type": "stream",
     "text": [
      "Sources\t\tDF  \t\tSS\t\t\tMS\t\t\tF statistics\n",
      "Regression\t1\t33260.64485238798\t33260.64485238798\t\t4719.392925657178\n",
      "Residual\t48\t338.28735561201614\t7.047653241917003\n",
      "Total\t\t49\t33598.932208\n"
     ]
    }
   ],
   "source": [
    "# Anova table\n",
    "\n",
    "# Degree of freedom\n",
    "DF_REG = 1\n",
    "DF_RES = len(x) - 2 \n",
    "DF_TOT = len(x) - 1\n",
    "\n",
    "# Sum of square\n",
    "m_y = np.mean(y)\n",
    "n = len(y)\n",
    "Y = np.array(y)\n",
    "error = Y - Y_pred\n",
    "\n",
    "# SS Residual \n",
    "SS_res = np.sum(error**2)\n",
    "\n",
    "# SS Regression\n",
    "\n",
    "SS_Reg = np.sum((Y_pred - m_y)**2)\n",
    "\n",
    "# SS Total\n",
    "SS_total = np.sum((Y - m_y)**2)\n",
    "\n",
    "# MS Residual\n",
    "\n",
    "MS_Res = SS_res/DF_RES\n",
    "\n",
    "# MS Regression\n",
    "\n",
    "MS_Reg = SS_Reg/DF_REG\n",
    "\n",
    "# F Statistics\n",
    "\n",
    "F = MS_Reg/MS_Res\n",
    "\n",
    "# Printing Anova table\n",
    "print('{0}\\t\\t{1}\\t\\t{2}\\t\\t\\t{3}\\t\\t\\t{4}'.format( \"Sources\",\"DF  \" , \"SS\" , \"MS\" , \"F statistics\"))\n",
    "print('{0}\\t{1}\\t{2}\\t{3}\\t\\t{4}'.format( \"Regression\" ,DF_REG , SS_Reg , MS_Reg , F))\n",
    "print('{0}\\t{1}\\t{2}\\t{3}'.format(\"Residual\",DF_RES , SS_res , MS_Res))\n",
    "print('{0}\\t\\t{1}\\t{2}'.format(\"Total\",  DF_TOT , SS_total ))\n",
    "\n",
    "\n",
    "\n",
    "    "
   ]
  },
  {
   "cell_type": "code",
   "execution_count": null,
   "metadata": {},
   "outputs": [],
   "source": []
  }
 ],
 "metadata": {
  "kernelspec": {
   "display_name": "Python 3",
   "language": "python",
   "name": "python3"
  },
  "language_info": {
   "codemirror_mode": {
    "name": "ipython",
    "version": 3
   },
   "file_extension": ".py",
   "mimetype": "text/x-python",
   "name": "python",
   "nbconvert_exporter": "python",
   "pygments_lexer": "ipython3",
   "version": "3.8.3"
  }
 },
 "nbformat": 4,
 "nbformat_minor": 4
}
