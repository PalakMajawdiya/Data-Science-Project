{
 "cells": [
  {
   "cell_type": "code",
   "execution_count": 1,
   "metadata": {},
   "outputs": [
    {
     "name": "stdout",
     "output_type": "stream",
     "text": [
      "Enter your sentence: you can learn by only doing more and more prcatice\n",
      "you 1\n",
      "can 1\n",
      "learn 1\n",
      "by 1\n",
      "only 1\n",
      "doing 1\n",
      "more 2\n",
      "and 1\n",
      "prcatice 1\n"
     ]
    }
   ],
   "source": [
    "# Q.3 program to count frequency of given word\n",
    "INP=input(\"Enter your sentence: \")\n",
    "words=INP.split()\n",
    "f=[]\n",
    "for x in words:\n",
    "    if x in f:\n",
    "        pass\n",
    "    else:\n",
    "        FRE=words.count(x)\n",
    "        f.append(x)\n",
    "        print(x,FRE)"
   ]
  },
  {
   "cell_type": "code",
   "execution_count": 3,
   "metadata": {},
   "outputs": [
    {
     "name": "stdout",
     "output_type": "stream",
     "text": [
      "Enter a string: P1A2L3A4K5\n",
      "PALAK\n"
     ]
    }
   ],
   "source": [
    "# Q.4 Program Which accepts a string from console and print the characters that have even indexes\n",
    "list=input(\"Enter a string: \")\n",
    "print(list[0:-1:2])"
   ]
  },
  {
   "cell_type": "code",
   "execution_count": 1,
   "metadata": {},
   "outputs": [
    {
     "name": "stdout",
     "output_type": "stream",
     "text": [
      "[12, 24, 35, 88, 120, 155]\n"
     ]
    }
   ],
   "source": [
    "# Q.5 Program to print list after removing all duplicates values with original order reserved\n",
    "list=[12,24,35,24,88,120,155,88,120,155]\n",
    "L=[]\n",
    "for x in list:\n",
    "    if x in L:\n",
    "        pass\n",
    "    else:\n",
    "        L.append(x)\n",
    "print(L)\n",
    "    "
   ]
  },
  {
   "cell_type": "code",
   "execution_count": 1,
   "metadata": {},
   "outputs": [
    {
     "name": "stdout",
     "output_type": "stream",
     "text": [
      "Enter how many names: 4\n",
      "name=Palak\n",
      "age=20\n",
      "weight=47\n",
      "name=Manan\n",
      "age=7\n",
      "weight=23\n",
      "name=Preet\n",
      "age=3\n",
      "weight=12\n",
      "name=Priyanka\n",
      "age=27\n",
      "weight=57\n",
      "[('Manan', '7', '23'), ('Palak', '20', '47'), ('Preet', '3', '12'), ('Priyanka', '27', '57')]\n"
     ]
    }
   ],
   "source": [
    "# Q.2 Program to sort tuples in ascending order\n",
    "from operator import itemgetter\n",
    "S=[]\n",
    "name=int(input(\"Enter how many names: \"))\n",
    "for i in range(name):\n",
    "    name=input(\"name=\")\n",
    "    age=input(\"age=\")\n",
    "    weight=input(\"weight=\")\n",
    "    S.append((name,age,weight))\n",
    "S.sort(key=itemgetter(0,1,2))\n",
    "print(S)"
   ]
  },
  {
   "cell_type": "code",
   "execution_count": 2,
   "metadata": {},
   "outputs": [
    {
     "name": "stdout",
     "output_type": "stream",
     "text": [
      "Enter a string: Palak\n",
      "Possible substrings are ['P', 'Pa', 'Pal', 'Pala', 'Palak', 'a', 'al', 'ala', 'alak', 'l', 'la', 'lak', 'a', 'ak', 'k']\n",
      "The substring satisfying condition is  ['P', 'a', 'l', 'k']\n"
     ]
    }
   ],
   "source": [
    "# Q.6 Program to find longest substring in which character is not repeated\n",
    "ST = input(\"Enter a string: \")\n",
    "n = len(ST)\n",
    "L = []\n",
    "for i in range(n):\n",
    "    for j in range(i,n):\n",
    "        L.append(ST[i:j+1])\n",
    "print(\"Possible substrings are\",L)\n",
    "S=[]\n",
    "for x in L:\n",
    "    if len(x) >= n:\n",
    "        for j in x:\n",
    "            c=x.count(j)\n",
    "            if c == 1:\n",
    "                S.append(x)\n",
    "string = S[0]\n",
    "Result=[]\n",
    "for k in string:\n",
    "    if k in Result:\n",
    "        \n",
    "        pass\n",
    "    else:\n",
    "        Result.append(k)\n",
    "print(\"The substring satisfying condition is \",Result)"
   ]
  },
  {
   "cell_type": "code",
   "execution_count": 4,
   "metadata": {},
   "outputs": [
    {
     "name": "stdout",
     "output_type": "stream",
     "text": [
      "Enter your passwords: Palak,Palak@7M\n",
      "Correct password is  ['Palak@7M']\n"
     ]
    }
   ],
   "source": [
    "# Q.1 Program to check validity of password\n",
    "PW=input(\"Enter your passwords: \").split(\",\")\n",
    "CP=[]\n",
    "for x in PW:\n",
    "    if len(x) in range(6,12):\n",
    "        for word in x:\n",
    "            if word .islower():\n",
    "                continue\n",
    "            elif word .isupper():\n",
    "                continue\n",
    "            elif word in (\"@\",\"#\",\"$\"):\n",
    "                continue\n",
    "            elif word .isdigit():\n",
    "                CP.append(x)   \n",
    "                print(\"Correct password is \",CP)"
   ]
  },
  {
   "cell_type": "code",
   "execution_count": null,
   "metadata": {},
   "outputs": [],
   "source": []
  }
 ],
 "metadata": {
  "kernelspec": {
   "display_name": "Python 3",
   "language": "python",
   "name": "python3"
  },
  "language_info": {
   "codemirror_mode": {
    "name": "ipython",
    "version": 3
   },
   "file_extension": ".py",
   "mimetype": "text/x-python",
   "name": "python",
   "nbconvert_exporter": "python",
   "pygments_lexer": "ipython3",
   "version": "3.8.3"
  }
 },
 "nbformat": 4,
 "nbformat_minor": 4
}
