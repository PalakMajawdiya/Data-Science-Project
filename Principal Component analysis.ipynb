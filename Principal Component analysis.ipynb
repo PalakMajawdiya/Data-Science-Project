{
 "cells": [
  {
   "cell_type": "code",
   "execution_count": 1,
   "metadata": {},
   "outputs": [
    {
     "name": "stdout",
     "output_type": "stream",
     "text": [
      "[[1.71 2.43 2.8  5.64]\n",
      " [1.78 2.14 2.65 4.38]\n",
      " [2.36 2.67 2.8  5.68]\n",
      " [1.95 2.5  3.85 7.8 ]\n",
      " [2.59 2.87 2.8  4.32]\n",
      " [1.76 2.45 3.27 6.75]\n",
      " [1.87 2.45 2.5  5.25]\n",
      " [2.15 2.61 2.6  5.05]\n",
      " [1.64 2.17 2.8  5.2 ]\n",
      " [1.35 2.27 2.98 7.22]\n",
      " [2.16 2.3  2.95 5.75]\n",
      " [1.48 2.32 2.2  5.  ]\n",
      " [1.73 2.41 2.6  5.6 ]\n",
      " [1.73 2.39 3.1  5.4 ]\n",
      " [1.87 2.38 3.3  7.5 ]\n",
      " [1.81 2.7  2.85 7.3 ]\n",
      " [1.92 2.72 2.8  6.2 ]\n",
      " [1.57 2.62 2.95 6.6 ]\n",
      " [1.59 2.48 3.3  8.7 ]\n",
      " [3.1  2.56 2.7  5.1 ]\n",
      " [1.63 2.28 3.   5.65]\n",
      " [3.8  2.65 2.41 4.5 ]\n",
      " [1.86 2.36 2.61 3.8 ]\n",
      " [1.6  2.52 2.48 3.93]\n",
      " [1.81 2.61 2.53 3.52]\n",
      " [2.05 3.22 2.63 3.58]\n",
      " [1.77 2.62 2.85 4.8 ]\n",
      " [1.72 2.14 2.4  3.95]\n",
      " [1.9  2.8  2.95 4.5 ]\n",
      " [1.68 2.21 2.65 4.7 ]\n",
      " [1.5  2.7  3.   5.7 ]\n",
      " [1.66 2.36 2.86 6.9 ]\n",
      " [1.83 2.36 2.42 3.84]\n",
      " [1.53 2.7  2.95 5.4 ]\n",
      " [1.8  2.65 2.35 4.2 ]\n",
      " [1.81 2.41 2.7  5.1 ]\n",
      " [1.64 2.84 2.6  4.6 ]\n",
      " [1.65 2.55 2.45 4.25]\n",
      " [1.5  2.1  2.4  3.7 ]\n",
      " [3.99 2.51 3.   5.1 ]\n",
      " [1.71 2.31 3.15 6.13]\n",
      " [3.84 2.12 2.45 4.28]\n",
      " [1.89 2.59 3.25 5.43]\n",
      " [3.98 2.29 2.64 4.36]\n",
      " [1.77 2.1  3.   5.04]\n",
      " [4.04 2.44 2.85 5.24]\n",
      " [3.59 2.28 3.25 4.9 ]\n",
      " [1.68 2.12 3.1  6.1 ]\n",
      " [2.02 2.4  2.75 6.2 ]\n",
      " [1.73 2.27 2.88 8.9 ]]\n"
     ]
    }
   ],
   "source": [
    "#Read Data from csv file\n",
    "import matplotlib.pyplot as plt\n",
    "import numpy as np\n",
    "import pandas as pd\n",
    "import csv\n",
    "\n",
    "# Load data from CSV file using numpy\n",
    "\n",
    "Data = np.loadtxt(r\"C:\\Users\\hp\\Documents\\PCA data.csv\",delimiter = ',' , skiprows = 1)\n",
    "print(Data) "
   ]
  },
  {
   "cell_type": "code",
   "execution_count": 2,
   "metadata": {},
   "outputs": [
    {
     "name": "stdout",
     "output_type": "stream",
     "text": [
      "[[1.71 1.78 2.36 1.95 2.59 1.76 1.87 2.15 1.64 1.35 2.16 1.48 1.73 1.73\n",
      "  1.87 1.81 1.92 1.57 1.59 3.1  1.63 3.8  1.86 1.6  1.81 2.05 1.77 1.72\n",
      "  1.9  1.68 1.5  1.66 1.83 1.53 1.8  1.81 1.64 1.65 1.5  3.99 1.71 3.84\n",
      "  1.89 3.98 1.77 4.04 3.59 1.68 2.02 1.73]\n",
      " [2.43 2.14 2.67 2.5  2.87 2.45 2.45 2.61 2.17 2.27 2.3  2.32 2.41 2.39\n",
      "  2.38 2.7  2.72 2.62 2.48 2.56 2.28 2.65 2.36 2.52 2.61 3.22 2.62 2.14\n",
      "  2.8  2.21 2.7  2.36 2.36 2.7  2.65 2.41 2.84 2.55 2.1  2.51 2.31 2.12\n",
      "  2.59 2.29 2.1  2.44 2.28 2.12 2.4  2.27]\n",
      " [2.8  2.65 2.8  3.85 2.8  3.27 2.5  2.6  2.8  2.98 2.95 2.2  2.6  3.1\n",
      "  3.3  2.85 2.8  2.95 3.3  2.7  3.   2.41 2.61 2.48 2.53 2.63 2.85 2.4\n",
      "  2.95 2.65 3.   2.86 2.42 2.95 2.35 2.7  2.6  2.45 2.4  3.   3.15 2.45\n",
      "  3.25 2.64 3.   2.85 3.25 3.1  2.75 2.88]\n",
      " [5.64 4.38 5.68 7.8  4.32 6.75 5.25 5.05 5.2  7.22 5.75 5.   5.6  5.4\n",
      "  7.5  7.3  6.2  6.6  8.7  5.1  5.65 4.5  3.8  3.93 3.52 3.58 4.8  3.95\n",
      "  4.5  4.7  5.7  6.9  3.84 5.4  4.2  5.1  4.6  4.25 3.7  5.1  6.13 4.28\n",
      "  5.43 4.36 5.04 5.24 4.9  6.1  6.2  8.9 ]]\n"
     ]
    }
   ],
   "source": [
    "# Taking transpose of data\n",
    "Newdata = Data.T\n",
    "print(Newdata)"
   ]
  },
  {
   "cell_type": "code",
   "execution_count": 3,
   "metadata": {},
   "outputs": [
    {
     "name": "stdout",
     "output_type": "stream",
     "text": [
      "[1.71 1.78 2.36 1.95 2.59 1.76 1.87 2.15 1.64 1.35 2.16 1.48 1.73 1.73\n",
      " 1.87 1.81 1.92 1.57 1.59 3.1  1.63 3.8  1.86 1.6  1.81 2.05 1.77 1.72\n",
      " 1.9  1.68 1.5  1.66 1.83 1.53 1.8  1.81 1.64 1.65 1.5  3.99 1.71 3.84\n",
      " 1.89 3.98 1.77 4.04 3.59 1.68 2.02 1.73]\n"
     ]
    }
   ],
   "source": [
    "# extrating data of X1 \n",
    "X1 = Newdata[0]\n",
    "print(X1)"
   ]
  },
  {
   "cell_type": "code",
   "execution_count": 4,
   "metadata": {},
   "outputs": [
    {
     "name": "stdout",
     "output_type": "stream",
     "text": [
      "[2.43 2.14 2.67 2.5  2.87 2.45 2.45 2.61 2.17 2.27 2.3  2.32 2.41 2.39\n",
      " 2.38 2.7  2.72 2.62 2.48 2.56 2.28 2.65 2.36 2.52 2.61 3.22 2.62 2.14\n",
      " 2.8  2.21 2.7  2.36 2.36 2.7  2.65 2.41 2.84 2.55 2.1  2.51 2.31 2.12\n",
      " 2.59 2.29 2.1  2.44 2.28 2.12 2.4  2.27]\n"
     ]
    }
   ],
   "source": [
    "# extrating data of X2 \n",
    "X2 = Newdata[1]\n",
    "print(X2)"
   ]
  },
  {
   "cell_type": "code",
   "execution_count": 5,
   "metadata": {},
   "outputs": [
    {
     "name": "stdout",
     "output_type": "stream",
     "text": [
      "[2.8  2.65 2.8  3.85 2.8  3.27 2.5  2.6  2.8  2.98 2.95 2.2  2.6  3.1\n",
      " 3.3  2.85 2.8  2.95 3.3  2.7  3.   2.41 2.61 2.48 2.53 2.63 2.85 2.4\n",
      " 2.95 2.65 3.   2.86 2.42 2.95 2.35 2.7  2.6  2.45 2.4  3.   3.15 2.45\n",
      " 3.25 2.64 3.   2.85 3.25 3.1  2.75 2.88]\n"
     ]
    }
   ],
   "source": [
    "# extrating data of X3 \n",
    "X3 = Newdata[2]\n",
    "print(X3)"
   ]
  },
  {
   "cell_type": "code",
   "execution_count": 6,
   "metadata": {},
   "outputs": [
    {
     "name": "stdout",
     "output_type": "stream",
     "text": [
      "[5.64 4.38 5.68 7.8  4.32 6.75 5.25 5.05 5.2  7.22 5.75 5.   5.6  5.4\n",
      " 7.5  7.3  6.2  6.6  8.7  5.1  5.65 4.5  3.8  3.93 3.52 3.58 4.8  3.95\n",
      " 4.5  4.7  5.7  6.9  3.84 5.4  4.2  5.1  4.6  4.25 3.7  5.1  6.13 4.28\n",
      " 5.43 4.36 5.04 5.24 4.9  6.1  6.2  8.9 ]\n"
     ]
    }
   ],
   "source": [
    "# extrating data of X4 \n",
    "X4 = Newdata[3]\n",
    "print(X4)"
   ]
  },
  {
   "cell_type": "code",
   "execution_count": 7,
   "metadata": {},
   "outputs": [
    {
     "name": "stdout",
     "output_type": "stream",
     "text": [
      " X1 is  \n",
      " \n",
      "[[1.71]\n",
      " [1.78]\n",
      " [2.36]\n",
      " [1.95]\n",
      " [2.59]\n",
      " [1.76]\n",
      " [1.87]\n",
      " [2.15]\n",
      " [1.64]\n",
      " [1.35]\n",
      " [2.16]\n",
      " [1.48]\n",
      " [1.73]\n",
      " [1.73]\n",
      " [1.87]\n",
      " [1.81]\n",
      " [1.92]\n",
      " [1.57]\n",
      " [1.59]\n",
      " [3.1 ]\n",
      " [1.63]\n",
      " [3.8 ]\n",
      " [1.86]\n",
      " [1.6 ]\n",
      " [1.81]\n",
      " [2.05]\n",
      " [1.77]\n",
      " [1.72]\n",
      " [1.9 ]\n",
      " [1.68]\n",
      " [1.5 ]\n",
      " [1.66]\n",
      " [1.83]\n",
      " [1.53]\n",
      " [1.8 ]\n",
      " [1.81]\n",
      " [1.64]\n",
      " [1.65]\n",
      " [1.5 ]\n",
      " [3.99]\n",
      " [1.71]\n",
      " [3.84]\n",
      " [1.89]\n",
      " [3.98]\n",
      " [1.77]\n",
      " [4.04]\n",
      " [3.59]\n",
      " [1.68]\n",
      " [2.02]\n",
      " [1.73]]\n",
      " \n",
      " X2 is  \n",
      " \n",
      "[[2.43]\n",
      " [2.14]\n",
      " [2.67]\n",
      " [2.5 ]\n",
      " [2.87]\n",
      " [2.45]\n",
      " [2.45]\n",
      " [2.61]\n",
      " [2.17]\n",
      " [2.27]\n",
      " [2.3 ]\n",
      " [2.32]\n",
      " [2.41]\n",
      " [2.39]\n",
      " [2.38]\n",
      " [2.7 ]\n",
      " [2.72]\n",
      " [2.62]\n",
      " [2.48]\n",
      " [2.56]\n",
      " [2.28]\n",
      " [2.65]\n",
      " [2.36]\n",
      " [2.52]\n",
      " [2.61]\n",
      " [3.22]\n",
      " [2.62]\n",
      " [2.14]\n",
      " [2.8 ]\n",
      " [2.21]\n",
      " [2.7 ]\n",
      " [2.36]\n",
      " [2.36]\n",
      " [2.7 ]\n",
      " [2.65]\n",
      " [2.41]\n",
      " [2.84]\n",
      " [2.55]\n",
      " [2.1 ]\n",
      " [2.51]\n",
      " [2.31]\n",
      " [2.12]\n",
      " [2.59]\n",
      " [2.29]\n",
      " [2.1 ]\n",
      " [2.44]\n",
      " [2.28]\n",
      " [2.12]\n",
      " [2.4 ]\n",
      " [2.27]]\n",
      " \n",
      " X3 is  \n",
      " \n",
      "[[2.8 ]\n",
      " [2.65]\n",
      " [2.8 ]\n",
      " [3.85]\n",
      " [2.8 ]\n",
      " [3.27]\n",
      " [2.5 ]\n",
      " [2.6 ]\n",
      " [2.8 ]\n",
      " [2.98]\n",
      " [2.95]\n",
      " [2.2 ]\n",
      " [2.6 ]\n",
      " [3.1 ]\n",
      " [3.3 ]\n",
      " [2.85]\n",
      " [2.8 ]\n",
      " [2.95]\n",
      " [3.3 ]\n",
      " [2.7 ]\n",
      " [3.  ]\n",
      " [2.41]\n",
      " [2.61]\n",
      " [2.48]\n",
      " [2.53]\n",
      " [2.63]\n",
      " [2.85]\n",
      " [2.4 ]\n",
      " [2.95]\n",
      " [2.65]\n",
      " [3.  ]\n",
      " [2.86]\n",
      " [2.42]\n",
      " [2.95]\n",
      " [2.35]\n",
      " [2.7 ]\n",
      " [2.6 ]\n",
      " [2.45]\n",
      " [2.4 ]\n",
      " [3.  ]\n",
      " [3.15]\n",
      " [2.45]\n",
      " [3.25]\n",
      " [2.64]\n",
      " [3.  ]\n",
      " [2.85]\n",
      " [3.25]\n",
      " [3.1 ]\n",
      " [2.75]\n",
      " [2.88]]\n",
      " \n",
      " X4 is  \n",
      " \n",
      "[[5.64]\n",
      " [4.38]\n",
      " [5.68]\n",
      " [7.8 ]\n",
      " [4.32]\n",
      " [6.75]\n",
      " [5.25]\n",
      " [5.05]\n",
      " [5.2 ]\n",
      " [7.22]\n",
      " [5.75]\n",
      " [5.  ]\n",
      " [5.6 ]\n",
      " [5.4 ]\n",
      " [7.5 ]\n",
      " [7.3 ]\n",
      " [6.2 ]\n",
      " [6.6 ]\n",
      " [8.7 ]\n",
      " [5.1 ]\n",
      " [5.65]\n",
      " [4.5 ]\n",
      " [3.8 ]\n",
      " [3.93]\n",
      " [3.52]\n",
      " [3.58]\n",
      " [4.8 ]\n",
      " [3.95]\n",
      " [4.5 ]\n",
      " [4.7 ]\n",
      " [5.7 ]\n",
      " [6.9 ]\n",
      " [3.84]\n",
      " [5.4 ]\n",
      " [4.2 ]\n",
      " [5.1 ]\n",
      " [4.6 ]\n",
      " [4.25]\n",
      " [3.7 ]\n",
      " [5.1 ]\n",
      " [6.13]\n",
      " [4.28]\n",
      " [5.43]\n",
      " [4.36]\n",
      " [5.04]\n",
      " [5.24]\n",
      " [4.9 ]\n",
      " [6.1 ]\n",
      " [6.2 ]\n",
      " [8.9 ]]\n",
      " \n"
     ]
    }
   ],
   "source": [
    "# Now reshape data \n",
    "n = len(X1)\n",
    "x1 = np.array(X1).reshape(n,1)\n",
    "x2 = np.array(X2).reshape(n,1)\n",
    "x3 = np.array(X3).reshape(n,1)\n",
    "x4 = np.array(X4).reshape(n,1)\n",
    "print(\" X1 is  \")\n",
    "print(\" \")\n",
    "print(x1)\n",
    "print(\" \")\n",
    "print(\" X2 is  \")\n",
    "print(\" \")\n",
    "print(x2)\n",
    "print(\" \")\n",
    "print(\" X3 is  \")\n",
    "print(\" \")\n",
    "print(x3)\n",
    "print(\" \")\n",
    "print(\" X4 is  \")\n",
    "print(\" \")\n",
    "print(x4)\n",
    "print(\" \")"
   ]
  },
  {
   "cell_type": "code",
   "execution_count": 8,
   "metadata": {},
   "outputs": [
    {
     "name": "stdout",
     "output_type": "stream",
     "text": [
      "[[1.71 2.43 2.8  5.64]\n",
      " [1.78 2.14 2.65 4.38]\n",
      " [2.36 2.67 2.8  5.68]\n",
      " [1.95 2.5  3.85 7.8 ]\n",
      " [2.59 2.87 2.8  4.32]\n",
      " [1.76 2.45 3.27 6.75]\n",
      " [1.87 2.45 2.5  5.25]\n",
      " [2.15 2.61 2.6  5.05]\n",
      " [1.64 2.17 2.8  5.2 ]\n",
      " [1.35 2.27 2.98 7.22]\n",
      " [2.16 2.3  2.95 5.75]\n",
      " [1.48 2.32 2.2  5.  ]\n",
      " [1.73 2.41 2.6  5.6 ]\n",
      " [1.73 2.39 3.1  5.4 ]\n",
      " [1.87 2.38 3.3  7.5 ]\n",
      " [1.81 2.7  2.85 7.3 ]\n",
      " [1.92 2.72 2.8  6.2 ]\n",
      " [1.57 2.62 2.95 6.6 ]\n",
      " [1.59 2.48 3.3  8.7 ]\n",
      " [3.1  2.56 2.7  5.1 ]\n",
      " [1.63 2.28 3.   5.65]\n",
      " [3.8  2.65 2.41 4.5 ]\n",
      " [1.86 2.36 2.61 3.8 ]\n",
      " [1.6  2.52 2.48 3.93]\n",
      " [1.81 2.61 2.53 3.52]\n",
      " [2.05 3.22 2.63 3.58]\n",
      " [1.77 2.62 2.85 4.8 ]\n",
      " [1.72 2.14 2.4  3.95]\n",
      " [1.9  2.8  2.95 4.5 ]\n",
      " [1.68 2.21 2.65 4.7 ]\n",
      " [1.5  2.7  3.   5.7 ]\n",
      " [1.66 2.36 2.86 6.9 ]\n",
      " [1.83 2.36 2.42 3.84]\n",
      " [1.53 2.7  2.95 5.4 ]\n",
      " [1.8  2.65 2.35 4.2 ]\n",
      " [1.81 2.41 2.7  5.1 ]\n",
      " [1.64 2.84 2.6  4.6 ]\n",
      " [1.65 2.55 2.45 4.25]\n",
      " [1.5  2.1  2.4  3.7 ]\n",
      " [3.99 2.51 3.   5.1 ]\n",
      " [1.71 2.31 3.15 6.13]\n",
      " [3.84 2.12 2.45 4.28]\n",
      " [1.89 2.59 3.25 5.43]\n",
      " [3.98 2.29 2.64 4.36]\n",
      " [1.77 2.1  3.   5.04]\n",
      " [4.04 2.44 2.85 5.24]\n",
      " [3.59 2.28 3.25 4.9 ]\n",
      " [1.68 2.12 3.1  6.1 ]\n",
      " [2.02 2.4  2.75 6.2 ]\n",
      " [1.73 2.27 2.88 8.9 ]]\n"
     ]
    }
   ],
   "source": [
    "# Now take a matrix of independent variables X\n",
    "X = np.hstack((x1 , x2 , x3 , x4))\n",
    "print(X)"
   ]
  },
  {
   "cell_type": "code",
   "execution_count": 9,
   "metadata": {},
   "outputs": [
    {
     "name": "stdout",
     "output_type": "stream",
     "text": [
      "Normalization of x1 is \n",
      " \n",
      "[-0.4839952508199017, -0.3877461952591257, 0.40974597938730334, -0.15399848889724133, 0.7259928762298529, -0.4152459254193474, -0.2639974095381279, 0.12099881270497558, -0.5802443063806777, -0.9789903937038921, 0.13474867778508673, -0.8002421476624512, -0.45649552065967997, -0.45649552065967997, -0.2639974095381279, -0.34649660001879307, -0.1952480841375739, -0.6764933619414534, -0.6489936317812317, 1.4272359953155065, -0.5939941714607886, 2.3897265509232652, -0.2777472746182388, -0.6352437667011208, -0.34649660001879307, -0.01649983809613303, -0.4014960603392365, -0.4702453857397908, -0.22274781429779564, -0.5252448460602342, -0.7727424175022295, -0.552744576220456, -0.31899686985857134, -0.7314928222618968, -0.36024646509890396, -0.34649660001879307, -0.5802443063806777, -0.5664944413005668, -0.7727424175022295, 2.650973987445372, -0.4839952508199017, 2.444726011243709, -0.2364976793779065, 2.637224122365261, -0.4014960603392365, 2.719723312845926, 2.100979384240938, -0.5252448460602342, -0.05774943333646531, -0.45649552065967997]\n"
     ]
    }
   ],
   "source": [
    "# Normalize data for x1\n",
    "m_x1 = np.mean(x1)\n",
    "SD1 = np.std(x1)\n",
    "norm_x1 = []\n",
    "for xi in X1:\n",
    "    norm_x1.append((xi - m_x1)/SD1)\n",
    "print(\"Normalization of x1 is \")\n",
    "print(\" \")\n",
    "print(norm_x1)"
   ]
  },
  {
   "cell_type": "code",
   "execution_count": 10,
   "metadata": {},
   "outputs": [
    {
     "name": "stdout",
     "output_type": "stream",
     "text": [
      "Normalization of x2 is \n",
      " \n",
      "[-0.12648328604103812, -1.391316146451423, 0.920274943264107, 0.17882119750629547, 1.7925734676850626, -0.039253433598942525, -0.039253433598942525, 0.6585853859378202, -1.2604713677882806, -0.8243221055778027, -0.6934773269146604, -0.6062474744725648, -0.2137131384831337, -0.30094299092522925, -0.34455791714627804, 1.0511197219272512, 1.1383495743693468, 0.7022003121588689, 0.09159134506419987, 0.4405107548325822, -0.7807071793567559, 0.8330450908220114, -0.4317877695883736, 0.266051049948391, 0.6585853859378202, 3.3190958854217345, 0.7022003121588689, -1.391316146451423, 1.4872689841377273, -1.0860116629040895, 1.0511197219272512, -0.4317877695883736, -0.4317877695883736, 1.0511197219272512, 0.8330450908220114, -0.2137131384831337, 1.6617286890219185, 0.39689582861153344, -1.5657758513356141, 0.22243612372734228, -0.6498624006936116, -1.4785459988935186, 0.5713555334957247, -0.7370922531357071, -1.5657758513356141, -0.08286835981999129, -0.7807071793567559, -1.4785459988935186, -0.25732806470418246, -0.8243221055778027]\n"
     ]
    }
   ],
   "source": [
    "# Normalize data for x2\n",
    "m_x2 = np.mean(x2)\n",
    "SD2 = np.std(x2)\n",
    "norm_x2 = []\n",
    "for xi in X2:\n",
    "    norm_x2.append((xi-m_x2)/SD2)\n",
    "print(\"Normalization of x2 is \")\n",
    "print(\" \")\n",
    "print(norm_x2)"
   ]
  },
  {
   "cell_type": "code",
   "execution_count": 11,
   "metadata": {},
   "outputs": [
    {
     "name": "stdout",
     "output_type": "stream",
     "text": [
      "Normalization of x3 is \n",
      " \n",
      "[-0.023248538717855635, -0.5075930953398115, -0.023248538717855635, 3.3671633576358384, -0.023248538717855635, 1.4943644053642742, -0.9919376519617673, -0.669041280880463, -0.023248538717855635, 0.5579649292284923, 0.46109601790410165, -1.960626765205679, -0.669041280880463, 0.9454405745260575, 1.5912333166886647, 0.13819964682279728, -0.023248538717855635, 0.46109601790410165, 1.5912333166886647, -0.3461449097991586, 0.6225442034447531, -1.2825443859349406, -0.6367516437723333, -1.0565169261780283, -0.8950687406373767, -0.5721723695560723, 0.13819964682279728, -1.3148340230430717, 0.46109601790410165, -0.5075930953398115, 0.6225442034447531, 0.170489283930927, -1.2502547488268108, 0.46109601790410165, -1.4762822085837233, -0.3461449097991586, -0.669041280880463, -1.1533858375024189, -1.3148340230430717, 0.6225442034447531, 1.106888760066709, -1.1533858375024189, 1.4297851311480134, -0.5398827324479412, 0.6225442034447531, 0.13819964682279728, 1.4297851311480134, 0.9454405745260575, -0.1846967242585071, 0.23506855814718786]\n"
     ]
    }
   ],
   "source": [
    "# Normalize data for x3\n",
    "m_x3 = np.mean(x3)\n",
    "SD3 = np.std(x3)\n",
    "norm_x3 = []\n",
    "for xi in X3:\n",
    "    norm_x3.append((xi-m_x3)/SD3)\n",
    "print(\"Normalization of x3 is \")\n",
    "print(\" \")\n",
    "print(norm_x3)"
   ]
  },
  {
   "cell_type": "code",
   "execution_count": 12,
   "metadata": {},
   "outputs": [
    {
     "name": "stdout",
     "output_type": "stream",
     "text": [
      "Normalization of x4 is \n",
      " \n",
      "[0.2111191333554807, -0.7919355726320932, 0.24296213989476878, 1.9306414864770365, -0.8397000824410251, 1.0947625648207249, -0.09935018040257773, -0.2585652130990182, -0.13915393857668767, 1.4689178916573593, 0.2986874013385231, -0.29836897127312817, 0.17927612681619257, 0.02006109411975281, 1.691818937432376, 1.5326039047359357, 0.656921224905514, 0.9753512902983943, 2.6471091336110173, -0.21876145492490826, 0.21907988499030323, -0.6964065530142289, -1.2536591674517703, -1.1501693961990838, -1.4765602132267865, -1.4287957034178544, -0.4575840039695686, -1.1342478929294397, -0.6964065530142289, -0.5371915203177885, 0.25888364316441315, 1.2141738393430552, -1.2218161609124822, 0.02006109411975281, -0.9352291020588893, -0.21876145492490826, -0.6167990366660091, -0.8954253438847795, -1.3332666837999902, -0.21876145492490826, 0.6011959634617596, -0.8715430889803132, 0.04394334902421835, -0.8078570759017369, -0.26652596473384005, -0.10731093203739958, -0.37797648762134806, 0.5773137085572935, 0.656921224905514, 2.8063241663074585]\n"
     ]
    }
   ],
   "source": [
    "# Normalize data for x4\n",
    "m_x4 = np.mean(x4)\n",
    "SD4 = np.std(x4)\n",
    "norm_x4 = []\n",
    "for xi in X4:\n",
    "    norm_x4.append((xi-m_x4)/SD4)\n",
    "print(\"Normalization of x4 is \")\n",
    "print(\" \")\n",
    "print(norm_x4)"
   ]
  },
  {
   "cell_type": "code",
   "execution_count": 14,
   "metadata": {},
   "outputs": [
    {
     "name": "stdout",
     "output_type": "stream",
     "text": [
      "   Standardized matrix  is  \n",
      " \n",
      "[[-0.48399525 -0.12648329 -0.02324854  0.21111913]\n",
      " [-0.3877462  -1.39131615 -0.5075931  -0.79193557]\n",
      " [ 0.40974598  0.92027494 -0.02324854  0.24296214]\n",
      " [-0.15399849  0.1788212   3.36716336  1.93064149]\n",
      " [ 0.72599288  1.79257347 -0.02324854 -0.83970008]\n",
      " [-0.41524593 -0.03925343  1.49436441  1.09476256]\n",
      " [-0.26399741 -0.03925343 -0.99193765 -0.09935018]\n",
      " [ 0.12099881  0.65858539 -0.66904128 -0.25856521]\n",
      " [-0.58024431 -1.26047137 -0.02324854 -0.13915394]\n",
      " [-0.97899039 -0.82432211  0.55796493  1.46891789]\n",
      " [ 0.13474868 -0.69347733  0.46109602  0.2986874 ]\n",
      " [-0.80024215 -0.60624747 -1.96062677 -0.29836897]\n",
      " [-0.45649552 -0.21371314 -0.66904128  0.17927613]\n",
      " [-0.45649552 -0.30094299  0.94544057  0.02006109]\n",
      " [-0.26399741 -0.34455792  1.59123332  1.69181894]\n",
      " [-0.3464966   1.05111972  0.13819965  1.5326039 ]\n",
      " [-0.19524808  1.13834957 -0.02324854  0.65692122]\n",
      " [-0.67649336  0.70220031  0.46109602  0.97535129]\n",
      " [-0.64899363  0.09159135  1.59123332  2.64710913]\n",
      " [ 1.427236    0.44051075 -0.34614491 -0.21876145]\n",
      " [-0.59399417 -0.78070718  0.6225442   0.21907988]\n",
      " [ 2.38972655  0.83304509 -1.28254439 -0.69640655]\n",
      " [-0.27774727 -0.43178777 -0.63675164 -1.25365917]\n",
      " [-0.63524377  0.26605105 -1.05651693 -1.1501694 ]\n",
      " [-0.3464966   0.65858539 -0.89506874 -1.47656021]\n",
      " [-0.01649984  3.31909589 -0.57217237 -1.4287957 ]\n",
      " [-0.40149606  0.70220031  0.13819965 -0.457584  ]\n",
      " [-0.47024539 -1.39131615 -1.31483402 -1.13424789]\n",
      " [-0.22274781  1.48726898  0.46109602 -0.69640655]\n",
      " [-0.52524485 -1.08601166 -0.5075931  -0.53719152]\n",
      " [-0.77274242  1.05111972  0.6225442   0.25888364]\n",
      " [-0.55274458 -0.43178777  0.17048928  1.21417384]\n",
      " [-0.31899687 -0.43178777 -1.25025475 -1.22181616]\n",
      " [-0.73149282  1.05111972  0.46109602  0.02006109]\n",
      " [-0.36024647  0.83304509 -1.47628221 -0.9352291 ]\n",
      " [-0.3464966  -0.21371314 -0.34614491 -0.21876145]\n",
      " [-0.58024431  1.66172869 -0.66904128 -0.61679904]\n",
      " [-0.56649444  0.39689583 -1.15338584 -0.89542534]\n",
      " [-0.77274242 -1.56577585 -1.31483402 -1.33326668]\n",
      " [ 2.65097399  0.22243612  0.6225442  -0.21876145]\n",
      " [-0.48399525 -0.6498624   1.10688876  0.60119596]\n",
      " [ 2.44472601 -1.478546   -1.15338584 -0.87154309]\n",
      " [-0.23649768  0.57135553  1.42978513  0.04394335]\n",
      " [ 2.63722412 -0.73709225 -0.53988273 -0.80785708]\n",
      " [-0.40149606 -1.56577585  0.6225442  -0.26652596]\n",
      " [ 2.71972331 -0.08286836  0.13819965 -0.10731093]\n",
      " [ 2.10097938 -0.78070718  1.42978513 -0.37797649]\n",
      " [-0.52524485 -1.478546    0.94544057  0.57731371]\n",
      " [-0.05774943 -0.25732806 -0.18469672  0.65692122]\n",
      " [-0.45649552 -0.82432211  0.23506856  2.80632417]]\n"
     ]
    }
   ],
   "source": [
    "# Take the matrix of standardized data \n",
    "norm_X1 = np.array(norm_x1).reshape(n,1)\n",
    "norm_X2 = np.array(norm_x2).reshape(n,1)\n",
    "norm_X3 = np.array(norm_x3).reshape(n,1)\n",
    "norm_X4 = np.array(norm_x4).reshape(n,1)\n",
    "Z = np.hstack((norm_X1 , norm_X2 , norm_X3 , norm_X4)) # hstack is a function in numpy used to concatenate matrix\n",
    "print(\"   Standardized matrix  is  \")\n",
    "print(\" \")\n",
    "print(Z)"
   ]
  },
  {
   "cell_type": "code",
   "execution_count": 15,
   "metadata": {},
   "outputs": [
    {
     "name": "stdout",
     "output_type": "stream",
     "text": [
      "[[-0.48399525 -0.3877462   0.40974598 -0.15399849  0.72599288 -0.41524593\n",
      "  -0.26399741  0.12099881 -0.58024431 -0.97899039  0.13474868 -0.80024215\n",
      "  -0.45649552 -0.45649552 -0.26399741 -0.3464966  -0.19524808 -0.67649336\n",
      "  -0.64899363  1.427236   -0.59399417  2.38972655 -0.27774727 -0.63524377\n",
      "  -0.3464966  -0.01649984 -0.40149606 -0.47024539 -0.22274781 -0.52524485\n",
      "  -0.77274242 -0.55274458 -0.31899687 -0.73149282 -0.36024647 -0.3464966\n",
      "  -0.58024431 -0.56649444 -0.77274242  2.65097399 -0.48399525  2.44472601\n",
      "  -0.23649768  2.63722412 -0.40149606  2.71972331  2.10097938 -0.52524485\n",
      "  -0.05774943 -0.45649552]\n",
      " [-0.12648329 -1.39131615  0.92027494  0.1788212   1.79257347 -0.03925343\n",
      "  -0.03925343  0.65858539 -1.26047137 -0.82432211 -0.69347733 -0.60624747\n",
      "  -0.21371314 -0.30094299 -0.34455792  1.05111972  1.13834957  0.70220031\n",
      "   0.09159135  0.44051075 -0.78070718  0.83304509 -0.43178777  0.26605105\n",
      "   0.65858539  3.31909589  0.70220031 -1.39131615  1.48726898 -1.08601166\n",
      "   1.05111972 -0.43178777 -0.43178777  1.05111972  0.83304509 -0.21371314\n",
      "   1.66172869  0.39689583 -1.56577585  0.22243612 -0.6498624  -1.478546\n",
      "   0.57135553 -0.73709225 -1.56577585 -0.08286836 -0.78070718 -1.478546\n",
      "  -0.25732806 -0.82432211]\n",
      " [-0.02324854 -0.5075931  -0.02324854  3.36716336 -0.02324854  1.49436441\n",
      "  -0.99193765 -0.66904128 -0.02324854  0.55796493  0.46109602 -1.96062677\n",
      "  -0.66904128  0.94544057  1.59123332  0.13819965 -0.02324854  0.46109602\n",
      "   1.59123332 -0.34614491  0.6225442  -1.28254439 -0.63675164 -1.05651693\n",
      "  -0.89506874 -0.57217237  0.13819965 -1.31483402  0.46109602 -0.5075931\n",
      "   0.6225442   0.17048928 -1.25025475  0.46109602 -1.47628221 -0.34614491\n",
      "  -0.66904128 -1.15338584 -1.31483402  0.6225442   1.10688876 -1.15338584\n",
      "   1.42978513 -0.53988273  0.6225442   0.13819965  1.42978513  0.94544057\n",
      "  -0.18469672  0.23506856]\n",
      " [ 0.21111913 -0.79193557  0.24296214  1.93064149 -0.83970008  1.09476256\n",
      "  -0.09935018 -0.25856521 -0.13915394  1.46891789  0.2986874  -0.29836897\n",
      "   0.17927613  0.02006109  1.69181894  1.5326039   0.65692122  0.97535129\n",
      "   2.64710913 -0.21876145  0.21907988 -0.69640655 -1.25365917 -1.1501694\n",
      "  -1.47656021 -1.4287957  -0.457584   -1.13424789 -0.69640655 -0.53719152\n",
      "   0.25888364  1.21417384 -1.22181616  0.02006109 -0.9352291  -0.21876145\n",
      "  -0.61679904 -0.89542534 -1.33326668 -0.21876145  0.60119596 -0.87154309\n",
      "   0.04394335 -0.80785708 -0.26652596 -0.10731093 -0.37797649  0.57731371\n",
      "   0.65692122  2.80632417]]\n"
     ]
    }
   ],
   "source": [
    "# Talinf transpose of standardized matrix \n",
    "trans_Z = Z.T\n",
    "print(trans_Z)"
   ]
  },
  {
   "cell_type": "code",
   "execution_count": 35,
   "metadata": {},
   "outputs": [
    {
     "name": "stdout",
     "output_type": "stream",
     "text": [
      "Covariance matrix is \n",
      " \n",
      "[[ 1.02040816  0.01198175 -0.04860383 -0.22418329]\n",
      " [ 0.01198175  1.02040816 -0.0057597  -0.09937648]\n",
      " [-0.04860383 -0.0057597   1.02040816  0.68179947]\n",
      " [-0.22418329 -0.09937648  0.68179947  1.02040816]]\n"
     ]
    }
   ],
   "source": [
    "# Now covarance matrix calculated\n",
    "cov = trans_Z.dot(Z)/(n-1)\n",
    "print(\"Covariance matrix is \")\n",
    "print(\" \")\n",
    "print(cov)"
   ]
  },
  {
   "cell_type": "markdown",
   "metadata": {},
   "source": [
    "**The aim of covariance matrix is to understand how variables of input dataset ar varying from the respective mean**"
   ]
  },
  {
   "cell_type": "code",
   "execution_count": 46,
   "metadata": {},
   "outputs": [
    {
     "name": "stdout",
     "output_type": "stream",
     "text": [
      "[[ 1.02040816  0.01198175 -0.04860383 -0.22418329]\n",
      " [ 0.01198175  1.02040816 -0.0057597  -0.09937648]\n",
      " [-0.04860383 -0.0057597   1.02040816  0.68179947]\n",
      " [-0.22418329 -0.09937648  0.68179947  1.02040816]]\n"
     ]
    }
   ],
   "source": [
    "Cov = np.array(cov)\n",
    "print(Cov)"
   ]
  },
  {
   "cell_type": "code",
   "execution_count": 86,
   "metadata": {},
   "outputs": [
    {
     "name": "stdout",
     "output_type": "stream",
     "text": [
      " Eigen values are \n",
      " \n",
      "[1.76161608 0.30992049 0.99102931 1.01906677]\n",
      " \n",
      " Eigen vectors are \n",
      " \n",
      "[[-0.25622958 -0.17760988 -0.94502414  0.09864332]\n",
      " [-0.10292725 -0.09134263  0.1473132   0.97946992]\n",
      " [ 0.66015038  0.67169863 -0.28694619  0.17516938]\n",
      " [ 0.69853694 -0.71339484 -0.05375945  0.01496177]]\n"
     ]
    }
   ],
   "source": [
    "# Eigen values and Eigen Vectors\n",
    "values , P = np.linalg.eig(Cov) # linalg is linear algebra function in numpy\n",
    "print(\" Eigen values are \")\n",
    "print(\" \")\n",
    "print(values)\n",
    "print(\" \")\n",
    "print(\" Eigen vectors are \")\n",
    "print(\" \")\n",
    "print(P)"
   ]
  },
  {
   "cell_type": "code",
   "execution_count": 92,
   "metadata": {},
   "outputs": [
    {
     "name": "stdout",
     "output_type": "stream",
     "text": [
      "sorted eigen values from largest to smallest are\n",
      " \n",
      "[1.76161608216383, 1.0190667725754936, 0.9910293128679276, 0.3099204854539698]\n"
     ]
    }
   ],
   "source": [
    "# Sort the eigen values from largest to samllest\n",
    "sort_values = sorted(values , reverse = True)\n",
    "print(\"sorted eigen values from largest to smallest are\")\n",
    "print(\" \")\n",
    "print(sort_values)"
   ]
  },
  {
   "cell_type": "code",
   "execution_count": 97,
   "metadata": {},
   "outputs": [
    {
     "name": "stdout",
     "output_type": "stream",
     "text": [
      " sorted eigen vectors according to sorted eigen values are\n",
      " \n",
      "[[-0.25622958  0.09864332 -0.94502414 -0.17760988]\n",
      " [-0.10292725  0.97946992  0.1473132  -0.09134263]\n",
      " [ 0.66015038  0.17516938 -0.28694619  0.67169863]\n",
      " [ 0.69853694  0.01496177 -0.05375945 -0.71339484]]\n"
     ]
    }
   ],
   "source": [
    "# Now sort eigen vectors accorindingly eigen values and call it sorted_P\n",
    "P [:,[1,3]] = P[:,[3,1]]\n",
    "sorted_P = P\n",
    "print(\" sorted eigen vectors according to sorted eigen values are\")\n",
    "print(\" \")\n",
    "print(sorted_P)"
   ]
  },
  {
   "cell_type": "markdown",
   "metadata": {},
   "source": [
    "**Eigen vectors in sorted_P are independent of each other**"
   ]
  },
  {
   "cell_type": "code",
   "execution_count": 98,
   "metadata": {},
   "outputs": [
    {
     "name": "stdout",
     "output_type": "stream",
     "text": [
      " new standardised/ centered version of X is \n",
      " \n",
      "[[ 0.26915946 -0.17254319  0.43407597 -0.06871166]\n",
      " [-0.64572764 -1.50176442  0.34969621  0.41996719]\n",
      " [-0.04533991  0.94136304 -0.25804163 -0.34577921]\n",
      " [ 3.59251196  0.77866879 -0.89810991  0.89542699]\n",
      " [-0.97243457  1.81075031 -0.37019818  0.29073982]\n",
      " [ 1.86167586  0.19873768 -0.10102113  0.30010185]\n",
      " [-0.65254359 -0.2397327   0.53367512 -0.5449332 ]\n",
      " [-0.72107506  0.53593616  0.18855069 -0.34658253]\n",
      " [ 0.16586091 -1.29798544  0.37681273  0.30184758]\n",
      " [ 1.73012568 -0.78425359  0.56466191 -0.42396006]\n",
      " [ 0.54988801 -0.58070933 -0.37786613  0.13604685]\n",
      " [-1.23528515 -1.02064561  1.24557443 -0.90658828]\n",
      " [-0.1774723  -0.36886908  0.58225758 -0.47668954]\n",
      " [ 0.78608926 -0.17388245  0.11469737  0.7293067 ]\n",
      " [ 2.33535965 -0.05947774 -0.34882359 -0.05974429]\n",
      " [ 1.14240682  1.04249939  0.36024366 -1.03499403]\n",
      " [ 0.37639736  1.10147552  0.32356342 -0.55356208]\n",
      " [ 1.08677368  0.71641542  0.55800184 -0.33008193]\n",
      " [ 3.05642092  0.34403287  0.0279018  -0.71270328]\n",
      " [-0.79236129  0.50834729 -1.17279396 -0.37017039]\n",
      " [ 0.7965631  -0.71094425  0.25591606  0.43868271]\n",
      " [-2.03119954  0.8165912  -1.73017109 -0.86520204]\n",
      " [-1.18046929 -0.5806174   0.44897933  0.55542007]\n",
      " [-1.36551152 -0.00435154  1.00450951  0.19938771]\n",
      " [-1.60131553  0.43200441  0.7606816   0.4535383 ]\n",
      " [-1.71318405  3.1277226   0.74553332  0.33472369]\n",
      " [-0.19780716  0.66554126  0.46781044  0.42643543]\n",
      " [-1.39660711 -1.6564279   0.67769717  0.13660108]\n",
      " [-0.27807892  1.50511308  0.33472509  0.71024157]\n",
      " [-0.46397244 -1.21247976  0.51091624  0.23476791]\n",
      " [ 0.68162318  1.06623831  0.69254991  0.27471049]\n",
      " [ 1.14676609 -0.429417    0.34455437 -0.61405441]\n",
      " [-1.55266071 -0.69167693  0.66229171  0.12794057]\n",
      " [ 0.39764736  1.03845332  0.71273396  0.3293144 ]\n",
      " [-1.62129757  0.50781458  0.9370511  -0.33653831]\n",
      " [-0.27054107 -0.30741221  0.40705035  0.00462057]\n",
      " [-0.89488617  1.44395209  1.01827706 -0.0581024 ]\n",
      " [-1.28259454  0.1174316   0.97291616 -0.07157436]\n",
      " [-1.44016375 -1.86012292  0.94856309  0.34824213]\n",
      " [-0.44399286  0.585148   -2.63934283  0.08306831]\n",
      " [ 1.34157307 -0.4813756   0.01171641  0.45992804]\n",
      " [-1.84444159 -1.42211315 -2.15032109 -0.45212657]\n",
      " [ 0.97635889  0.78740869 -0.10496954  0.91885097]\n",
      " [-1.52058976 -0.56847304 -2.40247663 -0.18738654]\n",
      " [ 0.48883072 -1.46817227 -0.01554438  0.82263208]\n",
      " [-0.67207225  0.20971826 -2.61629868 -0.30609675]\n",
      " [ 0.22186563 -0.31263224 -2.4904363   0.92818833]\n",
      " [ 1.31417384 -1.32575336 -0.02376692  0.45154146]\n",
      " [ 0.37823932 -0.2802662   0.03434909 -0.55894286]\n",
      " [ 2.31731457 -0.76926455  0.0916473  -1.6877481 ]]\n"
     ]
    }
   ],
   "source": [
    "# Now calculate new features i.e centered version of X\n",
    "new_Z = Z.dot(sorted_P)\n",
    "print(\" new standardised/ centered version of X is \")\n",
    "print(\" \")\n",
    "print(new_Z)"
   ]
  },
  {
   "cell_type": "markdown",
   "metadata": {},
   "source": [
    "**Here each column of new_Z is independent of one another**"
   ]
  },
  {
   "cell_type": "code",
   "execution_count": 156,
   "metadata": {},
   "outputs": [
    {
     "name": "stdout",
     "output_type": "stream",
     "text": [
      "variance of  eigen value are \n",
      " \n",
      "[0.43159594 0.24967136 0.24280218 0.07593052]\n"
     ]
    }
   ],
   "source": [
    "# variance for  eigen values\n",
    "var = sort_values[0:4]/sum(sort_values)\n",
    "print(\"variance of  eigen value are \")\n",
    "print(\" \")\n",
    "print(var)"
   ]
  },
  {
   "cell_type": "markdown",
   "metadata": {},
   "source": [
    "**So here 1st three eigen values has 91% variance and the last one does not contain much information  so we can discard that**"
   ]
  },
  {
   "cell_type": "markdown",
   "metadata": {},
   "source": [
    "**Now choose K eigen vectors that is 3 eigen values cover 91 % information so we choose first 3 eigen vectors corresponding to 3 eigen values**"
   ]
  },
  {
   "cell_type": "code",
   "execution_count": 181,
   "metadata": {},
   "outputs": [
    {
     "name": "stdout",
     "output_type": "stream",
     "text": [
      "[(0.43159594013013874, 0.24967135928099615, 0.24280218165264247)]\n"
     ]
    }
   ],
   "source": [
    "#Now drop unimportant feature so our principal components are \n",
    "Pc1 = var[0]\n",
    "Pc2 = var[1]\n",
    "Pc3 = var[2]\n",
    "PC = []\n",
    "PC.append((Pc1 , Pc2 , Pc3))\n",
    "print(PC)"
   ]
  },
  {
   "cell_type": "code",
   "execution_count": 197,
   "metadata": {},
   "outputs": [
    {
     "data": {
      "image/png": "[encoded data removed]",
      "text/plain": [
       "<Figure size 720x504 with 1 Axes>"
      ]
     },
     "metadata": {
      "needs_background": "light"
     },
     "output_type": "display_data"
    }
   ],
   "source": [
    "# Bar plot\n",
    "fig = plt.figure(figsize = (10,7))\n",
    "plt.bar((1,2,3) , (var[1] , var[2] , var[3]) , color = \"black\")\n",
    "plt.xlabel(\" Principal components\")\n",
    "plt.ylabel(\" Variance \")\n",
    "plt.show()\n"
   ]
  },
  {
   "cell_type": "code",
   "execution_count": null,
   "metadata": {},
   "outputs": [],
   "source": []
  }
 ],
 "metadata": {
  "kernelspec": {
   "display_name": "Python 3",
   "language": "python",
   "name": "python3"
  },
  "language_info": {
   "codemirror_mode": {
    "name": "ipython",
    "version": 3
   },
   "file_extension": ".py",
   "mimetype": "text/x-python",
   "name": "python",
   "nbconvert_exporter": "python",
   "pygments_lexer": "ipython3",
   "version": "3.8.3"
  }
 },
 "nbformat": 4,
 "nbformat_minor": 4
}
