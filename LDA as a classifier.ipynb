{
 "cells": [
  {
   "cell_type": "code",
   "execution_count": 95,
   "metadata": {},
   "outputs": [
    {
     "name": "stdout",
     "output_type": "stream",
     "text": [
      "[[0.         0.05978099 0.49191777]\n",
      " [0.         0.06600874 0.51372384]\n",
      " [0.         0.0773155  0.47890498]\n",
      " [0.         0.15122809 0.7272318 ]\n",
      " [0.         0.13512039 0.78356806]\n",
      " [0.         0.13278641 0.738307  ]\n",
      " [0.         0.15076233 0.76263767]\n",
      " [0.         0.16051433 0.71985791]\n",
      " [0.         0.14223942 0.77099205]\n",
      " [0.         0.13432878 0.80450525]\n",
      " [0.         0.15702051 0.73369288]\n",
      " [0.         0.13855052 0.75204201]\n",
      " [0.         0.13734274 0.73614996]\n",
      " [0.         0.18122546 0.53708   ]\n",
      " [0.         0.18311528 0.5713942 ]\n",
      " [0.         0.17427211 0.63519918]\n",
      " [0.         0.1908463  0.53880958]\n",
      " [0.         0.17124697 0.58641951]\n",
      " [0.         0.16834595 0.55974232]\n",
      " [0.         0.17363138 0.51826856]\n",
      " [0.         0.17275429 0.52308112]\n",
      " [0.         0.18101539 0.47531747]\n",
      " [0.         0.16353585 0.5424224 ]\n",
      " [0.         0.1702128  0.48796572]\n",
      " [0.         0.16042248 0.56742361]\n",
      " [0.         0.16469984 0.60402049]\n",
      " [0.         0.1695788  0.54370854]\n",
      " [0.         0.169021   0.47774572]\n",
      " [0.         0.16734024 0.53947909]\n",
      " [0.         0.18052782 0.31342645]\n",
      " [1.         0.15810799 0.67922331]\n",
      " [1.         0.18285544 0.50609888]\n",
      " [1.         0.19980652 0.42528917]\n",
      " [1.         0.19528037 0.52420879]\n",
      " [1.         0.20850437 0.34354832]\n",
      " [1.         0.16842574 0.49170939]\n",
      " [1.         0.17998186 0.58027435]\n",
      " [1.         0.20451797 0.40958343]\n",
      " [1.         0.1982922  0.44997308]\n",
      " [1.         0.18424982 0.52694608]\n",
      " [1.         0.19179436 0.26058997]\n",
      " [1.         0.19300411 0.2775297 ]\n",
      " [1.         0.1908901  0.30948382]\n",
      " [1.         0.18448437 0.33772236]\n",
      " [1.         0.18850513 0.3216828 ]\n",
      " [1.         0.1974762  0.26996822]\n",
      " [1.         0.16088384 0.56903252]\n",
      " [1.         0.1484144  0.72363045]\n",
      " [1.         0.10931062 0.62202228]\n",
      " [1.         0.1465114  0.74720058]\n",
      " [1.         0.11072728 0.74737368]\n",
      " [1.         0.15655372 0.69690681]\n",
      " [1.         0.16074487 0.72456149]\n",
      " [1.         0.11820653 0.76245851]\n",
      " [1.         0.12270601 0.62047085]\n",
      " [1.         0.163702   0.76879647]\n",
      " [1.         0.11363845 0.66266473]\n",
      " [1.         0.14900241 0.71842205]\n",
      " [1.         0.16412546 0.60128574]\n",
      " [1.         0.11129252 0.68880839]\n",
      " [1.         0.10278747 0.67400507]]\n"
     ]
    }
   ],
   "source": [
    "# Read data from csv\n",
    "import matplotlib.pyplot as plt\n",
    "import numpy as np\n",
    "import csv\n",
    "\n",
    "# Load data from CSV file using numpy\n",
    "\n",
    "Data = np.loadtxt(r\"C:\\Users\\hp\\Documents\\Linear DA.csv\",delimiter = ',' , skiprows = 1)\n",
    "print(Data)"
   ]
  },
  {
   "cell_type": "code",
   "execution_count": 96,
   "metadata": {},
   "outputs": [
    {
     "name": "stdout",
     "output_type": "stream",
     "text": [
      " Class is \n",
      " \n",
      "[[0.]\n",
      " [0.]\n",
      " [0.]\n",
      " [0.]\n",
      " [0.]\n",
      " [0.]\n",
      " [0.]\n",
      " [0.]\n",
      " [0.]\n",
      " [0.]\n",
      " [0.]\n",
      " [0.]\n",
      " [0.]\n",
      " [0.]\n",
      " [0.]\n",
      " [0.]\n",
      " [0.]\n",
      " [0.]\n",
      " [0.]\n",
      " [0.]\n",
      " [0.]\n",
      " [0.]\n",
      " [0.]\n",
      " [0.]\n",
      " [0.]\n",
      " [0.]\n",
      " [0.]\n",
      " [0.]\n",
      " [0.]\n",
      " [0.]\n",
      " [1.]\n",
      " [1.]\n",
      " [1.]\n",
      " [1.]\n",
      " [1.]\n",
      " [1.]\n",
      " [1.]\n",
      " [1.]\n",
      " [1.]\n",
      " [1.]\n",
      " [1.]\n",
      " [1.]\n",
      " [1.]\n",
      " [1.]\n",
      " [1.]\n",
      " [1.]\n",
      " [1.]\n",
      " [1.]\n",
      " [1.]\n",
      " [1.]\n",
      " [1.]\n",
      " [1.]\n",
      " [1.]\n",
      " [1.]\n",
      " [1.]\n",
      " [1.]\n",
      " [1.]\n",
      " [1.]\n",
      " [1.]\n",
      " [1.]\n",
      " [1.]]\n",
      " \n",
      " X1 is \n",
      " \n",
      "[[0.05978099]\n",
      " [0.06600874]\n",
      " [0.0773155 ]\n",
      " [0.15122809]\n",
      " [0.13512039]\n",
      " [0.13278641]\n",
      " [0.15076233]\n",
      " [0.16051433]\n",
      " [0.14223942]\n",
      " [0.13432878]\n",
      " [0.15702051]\n",
      " [0.13855052]\n",
      " [0.13734274]\n",
      " [0.18122546]\n",
      " [0.18311528]\n",
      " [0.17427211]\n",
      " [0.1908463 ]\n",
      " [0.17124697]\n",
      " [0.16834595]\n",
      " [0.17363138]\n",
      " [0.17275429]\n",
      " [0.18101539]\n",
      " [0.16353585]\n",
      " [0.1702128 ]\n",
      " [0.16042248]\n",
      " [0.16469984]\n",
      " [0.1695788 ]\n",
      " [0.169021  ]\n",
      " [0.16734024]\n",
      " [0.18052782]\n",
      " [0.15810799]\n",
      " [0.18285544]\n",
      " [0.19980652]\n",
      " [0.19528037]\n",
      " [0.20850437]\n",
      " [0.16842574]\n",
      " [0.17998186]\n",
      " [0.20451797]\n",
      " [0.1982922 ]\n",
      " [0.18424982]\n",
      " [0.19179436]\n",
      " [0.19300411]\n",
      " [0.1908901 ]\n",
      " [0.18448437]\n",
      " [0.18850513]\n",
      " [0.1974762 ]\n",
      " [0.16088384]\n",
      " [0.1484144 ]\n",
      " [0.10931062]\n",
      " [0.1465114 ]\n",
      " [0.11072728]\n",
      " [0.15655372]\n",
      " [0.16074487]\n",
      " [0.11820653]\n",
      " [0.12270601]\n",
      " [0.163702  ]\n",
      " [0.11363845]\n",
      " [0.14900241]\n",
      " [0.16412546]\n",
      " [0.11129252]\n",
      " [0.10278747]]\n",
      " \n",
      " X2 is \n",
      " \n",
      "[[0.49191777]\n",
      " [0.51372384]\n",
      " [0.47890498]\n",
      " [0.7272318 ]\n",
      " [0.78356806]\n",
      " [0.738307  ]\n",
      " [0.76263767]\n",
      " [0.71985791]\n",
      " [0.77099205]\n",
      " [0.80450525]\n",
      " [0.73369288]\n",
      " [0.75204201]\n",
      " [0.73614996]\n",
      " [0.53708   ]\n",
      " [0.5713942 ]\n",
      " [0.63519918]\n",
      " [0.53880958]\n",
      " [0.58641951]\n",
      " [0.55974232]\n",
      " [0.51826856]\n",
      " [0.52308112]\n",
      " [0.47531747]\n",
      " [0.5424224 ]\n",
      " [0.48796572]\n",
      " [0.56742361]\n",
      " [0.60402049]\n",
      " [0.54370854]\n",
      " [0.47774572]\n",
      " [0.53947909]\n",
      " [0.31342645]\n",
      " [0.67922331]\n",
      " [0.50609888]\n",
      " [0.42528917]\n",
      " [0.52420879]\n",
      " [0.34354832]\n",
      " [0.49170939]\n",
      " [0.58027435]\n",
      " [0.40958343]\n",
      " [0.44997308]\n",
      " [0.52694608]\n",
      " [0.26058997]\n",
      " [0.2775297 ]\n",
      " [0.30948382]\n",
      " [0.33772236]\n",
      " [0.3216828 ]\n",
      " [0.26996822]\n",
      " [0.56903252]\n",
      " [0.72363045]\n",
      " [0.62202228]\n",
      " [0.74720058]\n",
      " [0.74737368]\n",
      " [0.69690681]\n",
      " [0.72456149]\n",
      " [0.76245851]\n",
      " [0.62047085]\n",
      " [0.76879647]\n",
      " [0.66266473]\n",
      " [0.71842205]\n",
      " [0.60128574]\n",
      " [0.68880839]\n",
      " [0.67400507]]\n"
     ]
    }
   ],
   "source": [
    "# Extract X1 , X2 and Class\n",
    "C = Data[:len(Data),0:1]\n",
    "print(\" Class is \")\n",
    "print(\" \")\n",
    "print(C)\n",
    "\n",
    "print(\" \")\n",
    "print(\" X1 is \")\n",
    "print(\" \")\n",
    "X1 = Data[:len(Data),1:2]\n",
    "print(X1)\n",
    "\n",
    "print(\" \")\n",
    "print(\" X2 is \")\n",
    "print(\" \")\n",
    "X2 = Data[:len(Data),2:3]\n",
    "print(X2)"
   ]
  },
  {
   "cell_type": "code",
   "execution_count": 97,
   "metadata": {},
   "outputs": [
    {
     "name": "stdout",
     "output_type": "stream",
     "text": [
      "Normalization of x1 is \n",
      " \n",
      "[[-3.00536516e+00]\n",
      " [-2.81517194e+00]\n",
      " [-2.46986780e+00]\n",
      " [-2.12606061e-01]\n",
      " [-7.04529110e-01]\n",
      " [-7.75807952e-01]\n",
      " [-2.26830251e-01]\n",
      " [ 7.09920990e-02]\n",
      " [-4.87116701e-01]\n",
      " [-7.28704572e-01]\n",
      " [-3.57078362e-02]\n",
      " [-5.99774151e-01]\n",
      " [-6.36659252e-01]\n",
      " [ 7.03501867e-01]\n",
      " [ 7.61216296e-01]\n",
      " [ 4.91149139e-01]\n",
      " [ 9.97318550e-01]\n",
      " [ 3.98762722e-01]\n",
      " [ 3.10166546e-01]\n",
      " [ 4.71581524e-01]\n",
      " [ 4.44795567e-01]\n",
      " [ 6.97086563e-01]\n",
      " [ 1.63268176e-01]\n",
      " [ 3.67179481e-01]\n",
      " [ 6.81868830e-02]\n",
      " [ 1.98815825e-01]\n",
      " [ 3.47817459e-01]\n",
      " [ 3.30782555e-01]\n",
      " [ 2.79452645e-01]\n",
      " [ 6.82196273e-01]\n",
      " [-2.49668081e-03]\n",
      " [ 7.53280883e-01]\n",
      " [ 1.27096022e+00]\n",
      " [ 1.13273329e+00]\n",
      " [ 1.53658911e+00]\n",
      " [ 3.12603455e-01]\n",
      " [ 6.65522776e-01]\n",
      " [ 1.41484616e+00]\n",
      " [ 1.22471347e+00]\n",
      " [ 7.95864737e-01]\n",
      " [ 1.02627212e+00]\n",
      " [ 1.06321735e+00]\n",
      " [ 9.98656093e-01]\n",
      " [ 8.03027803e-01]\n",
      " [ 9.25820281e-01]\n",
      " [ 1.19979306e+00]\n",
      " [ 8.22767297e-02]\n",
      " [-2.98535060e-01]\n",
      " [-1.49274948e+00]\n",
      " [-3.56651909e-01]\n",
      " [-1.44948521e+00]\n",
      " [-4.99633297e-02]\n",
      " [ 7.80325178e-02]\n",
      " [-1.22107170e+00]\n",
      " [-1.08365927e+00]\n",
      " [ 1.68342241e-01]\n",
      " [-1.36057927e+00]\n",
      " [-2.80577371e-01]\n",
      " [ 1.81274453e-01]\n",
      " [-1.43222297e+00]\n",
      " [-1.69196389e+00]]\n"
     ]
    }
   ],
   "source": [
    "# Normalization of X1 \n",
    "m_x1 = np.mean(X1)\n",
    "SD1 = np.std(X1)\n",
    "norm_x1 = []\n",
    "for xi in X1:\n",
    "    norm_x1.append((xi-m_x1)/SD1)\n",
    "print(\"Normalization of x1 is \")\n",
    "print(\" \")\n",
    "print(np.array(norm_x1))"
   ]
  },
  {
   "cell_type": "code",
   "execution_count": 98,
   "metadata": {},
   "outputs": [
    {
     "name": "stdout",
     "output_type": "stream",
     "text": [
      "Normalization of x2 is \n",
      " \n",
      "[[-0.56485823]\n",
      " [-0.41664746]\n",
      " [-0.65330308]\n",
      " [ 1.03451583]\n",
      " [ 1.41742012]\n",
      " [ 1.10979139]\n",
      " [ 1.2751612 ]\n",
      " [ 0.98439723]\n",
      " [ 1.33194398]\n",
      " [ 1.5597253 ]\n",
      " [ 1.07843027]\n",
      " [ 1.20314501]\n",
      " [ 1.09513044]\n",
      " [-0.2579012 ]\n",
      " [-0.02467561]\n",
      " [ 0.40899178]\n",
      " [-0.24614559]\n",
      " [ 0.07744789]\n",
      " [-0.10387072]\n",
      " [-0.38575811]\n",
      " [-0.35304823]\n",
      " [-0.67768653]\n",
      " [-0.2215901 ]\n",
      " [-0.59171938]\n",
      " [-0.05166276]\n",
      " [ 0.19707755]\n",
      " [-0.21284851]\n",
      " [-0.66118227]\n",
      " [-0.24159511]\n",
      " [-1.77802167]\n",
      " [ 0.70821346]\n",
      " [-0.46847256]\n",
      " [-1.01771709]\n",
      " [-0.34538374]\n",
      " [-1.57329038]\n",
      " [-0.56627453]\n",
      " [ 0.03568068]\n",
      " [-1.12446533]\n",
      " [-0.84994641]\n",
      " [-0.32677904]\n",
      " [-2.13713877]\n",
      " [-2.02200342]\n",
      " [-1.80481882]\n",
      " [-1.61288809]\n",
      " [-1.72190522]\n",
      " [-2.073397  ]\n",
      " [-0.04072739]\n",
      " [ 1.01003832]\n",
      " [ 0.31943154]\n",
      " [ 1.17023894]\n",
      " [ 1.17141548]\n",
      " [ 0.82840399]\n",
      " [ 1.01636635]\n",
      " [ 1.27394353]\n",
      " [ 0.30888681]\n",
      " [ 1.31702109]\n",
      " [ 0.59566868]\n",
      " [ 0.97463805]\n",
      " [ 0.17849013]\n",
      " [ 0.77336097]\n",
      " [ 0.67274633]]\n"
     ]
    }
   ],
   "source": [
    "# Normaliztion of X2 is\n",
    "m_x2 = np.mean(X2)\n",
    "SD2 = np.std(X2)\n",
    "norm_x2 = []\n",
    "for xi in X2:\n",
    "    norm_x2.append((xi-m_x2)/SD2)\n",
    "print(\"Normalization of x2 is \")\n",
    "print(\" \")\n",
    "print(np.array(norm_x2))"
   ]
  },
  {
   "cell_type": "code",
   "execution_count": 99,
   "metadata": {},
   "outputs": [
    {
     "name": "stdout",
     "output_type": "stream",
     "text": [
      "[[-3.00536516e+00 -5.64858230e-01]\n",
      " [-2.81517194e+00 -4.16647460e-01]\n",
      " [-2.46986780e+00 -6.53303079e-01]\n",
      " [-2.12606061e-01  1.03451583e+00]\n",
      " [-7.04529110e-01  1.41742012e+00]\n",
      " [-7.75807952e-01  1.10979139e+00]\n",
      " [-2.26830251e-01  1.27516120e+00]\n",
      " [ 7.09920990e-02  9.84397226e-01]\n",
      " [-4.87116701e-01  1.33194398e+00]\n",
      " [-7.28704572e-01  1.55972530e+00]\n",
      " [-3.57078362e-02  1.07843027e+00]\n",
      " [-5.99774151e-01  1.20314501e+00]\n",
      " [-6.36659252e-01  1.09513044e+00]\n",
      " [ 7.03501867e-01 -2.57901196e-01]\n",
      " [ 7.61216296e-01 -2.46756123e-02]\n",
      " [ 4.91149139e-01  4.08991783e-01]\n",
      " [ 9.97318550e-01 -2.46145587e-01]\n",
      " [ 3.98762722e-01  7.74478948e-02]\n",
      " [ 3.10166546e-01 -1.03870724e-01]\n",
      " [ 4.71581524e-01 -3.85758110e-01]\n",
      " [ 4.44795567e-01 -3.53048232e-01]\n",
      " [ 6.97086563e-01 -6.77686526e-01]\n",
      " [ 1.63268176e-01 -2.21590100e-01]\n",
      " [ 3.67179481e-01 -5.91719383e-01]\n",
      " [ 6.81868830e-02 -5.16627638e-02]\n",
      " [ 1.98815825e-01  1.97077549e-01]\n",
      " [ 3.47817459e-01 -2.12848509e-01]\n",
      " [ 3.30782555e-01 -6.61182269e-01]\n",
      " [ 2.79452645e-01 -2.41595112e-01]\n",
      " [ 6.82196273e-01 -1.77802167e+00]\n",
      " [-2.49668081e-03  7.08213460e-01]\n",
      " [ 7.53280883e-01 -4.68472559e-01]\n",
      " [ 1.27096022e+00 -1.01771709e+00]\n",
      " [ 1.13273329e+00 -3.45383738e-01]\n",
      " [ 1.53658911e+00 -1.57329038e+00]\n",
      " [ 3.12603455e-01 -5.66274526e-01]\n",
      " [ 6.65522776e-01  3.56806827e-02]\n",
      " [ 1.41484616e+00 -1.12446533e+00]\n",
      " [ 1.22471347e+00 -8.49946410e-01]\n",
      " [ 7.95864737e-01 -3.26779036e-01]\n",
      " [ 1.02627212e+00 -2.13713877e+00]\n",
      " [ 1.06321735e+00 -2.02200342e+00]\n",
      " [ 9.98656093e-01 -1.80481882e+00]\n",
      " [ 8.03027803e-01 -1.61288809e+00]\n",
      " [ 9.25820281e-01 -1.72190522e+00]\n",
      " [ 1.19979306e+00 -2.07339700e+00]\n",
      " [ 8.22767297e-02 -4.07273882e-02]\n",
      " [-2.98535060e-01  1.01003832e+00]\n",
      " [-1.49274948e+00  3.19431538e-01]\n",
      " [-3.56651909e-01  1.17023894e+00]\n",
      " [-1.44948521e+00  1.17141548e+00]\n",
      " [-4.99633297e-02  8.28403991e-01]\n",
      " [ 7.80325178e-02  1.01636635e+00]\n",
      " [-1.22107170e+00  1.27394353e+00]\n",
      " [-1.08365927e+00  3.08886813e-01]\n",
      " [ 1.68342241e-01  1.31702109e+00]\n",
      " [-1.36057927e+00  5.95668678e-01]\n",
      " [-2.80577371e-01  9.74638051e-01]\n",
      " [ 1.81274453e-01  1.78490132e-01]\n",
      " [-1.43222297e+00  7.73360971e-01]\n",
      " [-1.69196389e+00  6.72746326e-01]]\n"
     ]
    }
   ],
   "source": [
    "# Now making X matrix\n",
    "X = np.hstack((np.array(norm_x1) , np.array(norm_x2)))\n",
    "print(X)"
   ]
  },
  {
   "cell_type": "code",
   "execution_count": 102,
   "metadata": {},
   "outputs": [
    {
     "name": "stdout",
     "output_type": "stream",
     "text": [
      " Data for class 0\n",
      " \n",
      "[[-3.00536516e+00 -5.64858230e-01]\n",
      " [-2.81517194e+00 -4.16647460e-01]\n",
      " [-2.46986780e+00 -6.53303079e-01]\n",
      " [-2.12606061e-01  1.03451583e+00]\n",
      " [-7.04529110e-01  1.41742012e+00]\n",
      " [-7.75807952e-01  1.10979139e+00]\n",
      " [-2.26830251e-01  1.27516120e+00]\n",
      " [ 7.09920990e-02  9.84397226e-01]\n",
      " [-4.87116701e-01  1.33194398e+00]\n",
      " [-7.28704572e-01  1.55972530e+00]\n",
      " [-3.57078362e-02  1.07843027e+00]\n",
      " [-5.99774151e-01  1.20314501e+00]\n",
      " [-6.36659252e-01  1.09513044e+00]\n",
      " [ 7.03501867e-01 -2.57901196e-01]\n",
      " [ 7.61216296e-01 -2.46756123e-02]\n",
      " [ 4.91149139e-01  4.08991783e-01]\n",
      " [ 9.97318550e-01 -2.46145587e-01]\n",
      " [ 3.98762722e-01  7.74478948e-02]\n",
      " [ 3.10166546e-01 -1.03870724e-01]\n",
      " [ 4.71581524e-01 -3.85758110e-01]\n",
      " [ 4.44795567e-01 -3.53048232e-01]\n",
      " [ 6.97086563e-01 -6.77686526e-01]\n",
      " [ 1.63268176e-01 -2.21590100e-01]\n",
      " [ 3.67179481e-01 -5.91719383e-01]\n",
      " [ 6.81868830e-02 -5.16627638e-02]\n",
      " [ 1.98815825e-01  1.97077549e-01]\n",
      " [ 3.47817459e-01 -2.12848509e-01]\n",
      " [ 3.30782555e-01 -6.61182269e-01]\n",
      " [ 2.79452645e-01 -2.41595112e-01]\n",
      " [ 6.82196273e-01 -1.77802167e+00]\n",
      " [-2.49668081e-03  7.08213460e-01]]\n"
     ]
    }
   ],
   "source": [
    "# Extract data for class 0\n",
    "C0 = X[:31,0:2]\n",
    "print(\" Data for class 0\")\n",
    "print(\" \")\n",
    "print(C0)"
   ]
  },
  {
   "cell_type": "code",
   "execution_count": 106,
   "metadata": {},
   "outputs": [
    {
     "name": "stdout",
     "output_type": "stream",
     "text": [
      " Data for class 1\n",
      " \n",
      "[[ 0.75328088 -0.46847256]\n",
      " [ 1.27096022 -1.01771709]\n",
      " [ 1.13273329 -0.34538374]\n",
      " [ 1.53658911 -1.57329038]\n",
      " [ 0.31260345 -0.56627453]\n",
      " [ 0.66552278  0.03568068]\n",
      " [ 1.41484616 -1.12446533]\n",
      " [ 1.22471347 -0.84994641]\n",
      " [ 0.79586474 -0.32677904]\n",
      " [ 1.02627212 -2.13713877]\n",
      " [ 1.06321735 -2.02200342]\n",
      " [ 0.99865609 -1.80481882]\n",
      " [ 0.8030278  -1.61288809]\n",
      " [ 0.92582028 -1.72190522]\n",
      " [ 1.19979306 -2.073397  ]\n",
      " [ 0.08227673 -0.04072739]\n",
      " [-0.29853506  1.01003832]\n",
      " [-1.49274948  0.31943154]\n",
      " [-0.35665191  1.17023894]\n",
      " [-1.44948521  1.17141548]\n",
      " [-0.04996333  0.82840399]\n",
      " [ 0.07803252  1.01636635]\n",
      " [-1.2210717   1.27394353]\n",
      " [-1.08365927  0.30888681]\n",
      " [ 0.16834224  1.31702109]\n",
      " [-1.36057927  0.59566868]\n",
      " [-0.28057737  0.97463805]\n",
      " [ 0.18127445  0.17849013]\n",
      " [-1.43222297  0.77336097]\n",
      " [-1.69196389  0.67274633]]\n"
     ]
    }
   ],
   "source": [
    "# Extract data for class 1\n",
    "C1 = X[31:,0:2]\n",
    "print(\" Data for class 1\")\n",
    "print(\" \")\n",
    "print(C1)"
   ]
  },
  {
   "cell_type": "code",
   "execution_count": 107,
   "metadata": {},
   "outputs": [
    {
     "name": "stdout",
     "output_type": "stream",
     "text": [
      "Mean vector for class 0 is\n",
      " \n",
      "[-0.15859249  0.19480248]\n"
     ]
    }
   ],
   "source": [
    "# Now finding mean for class 0\n",
    "m_c0 = np.mean(C0,axis =0)\n",
    "print(\"Mean vector for class 0 is\")\n",
    "print(\" \")\n",
    "print(m_c0)"
   ]
  },
  {
   "cell_type": "code",
   "execution_count": 108,
   "metadata": {},
   "outputs": [
    {
     "name": "stdout",
     "output_type": "stream",
     "text": [
      "Mean vector for class 1 is\n",
      " \n",
      "[ 0.16387891 -0.2012959 ]\n"
     ]
    }
   ],
   "source": [
    "# Now finding mean for class 1\n",
    "m_c1 = np.mean(C1,axis =0)\n",
    "print(\"Mean vector for class 1 is\")\n",
    "print(\" \")\n",
    "print(m_c1)"
   ]
  },
  {
   "cell_type": "code",
   "execution_count": 109,
   "metadata": {},
   "outputs": [
    {
     "name": "stdout",
     "output_type": "stream",
     "text": [
      " Covariance matrix for class 0 is \n",
      " \n",
      "[[ 0.98212265 -0.09833659]\n",
      " [-0.09833659  0.67849253]]\n"
     ]
    }
   ],
   "source": [
    "# Now finding mean for class 0\n",
    "cov_0 = np.cov(C0.T)\n",
    "print(\" Covariance matrix for class 0 is \")\n",
    "print(\" \")\n",
    "print(cov_0)"
   ]
  },
  {
   "cell_type": "code",
   "execution_count": 110,
   "metadata": {},
   "outputs": [
    {
     "name": "stdout",
     "output_type": "stream",
     "text": [
      "Covariance matrix for class 1 is\n",
      " \n",
      "[[ 1.03279078 -0.89166768]\n",
      " [-0.89166768  1.31907707]]\n"
     ]
    }
   ],
   "source": [
    "# Covariance matrix for class 1\n",
    "cov_1 = np.cov(C1.T)\n",
    "print(\"Covariance matrix for class 1 is\")\n",
    "print(\" \")\n",
    "print(cov_1)"
   ]
  },
  {
   "cell_type": "code",
   "execution_count": 111,
   "metadata": {},
   "outputs": [
    {
     "name": "stdout",
     "output_type": "stream",
     "text": [
      " so here Covariance matrix is \n",
      " \n",
      "[[ 1.0070414  -0.48849942]\n",
      " [-0.48849942  0.9935341 ]]\n"
     ]
    }
   ],
   "source": [
    "# Now final covariance matrix is \n",
    "n  = len(C)\n",
    "n0 = C0.shape[0]\n",
    "n1 = C1.shape[0]\n",
    "cov = ((n0*cov_0) + (n1*cov_1))\n",
    "print(\" so here Covariance matrix is \")\n",
    "print(\" \")\n",
    "COV = cov/n\n",
    "print(COV)\n"
   ]
  },
  {
   "cell_type": "code",
   "execution_count": 112,
   "metadata": {},
   "outputs": [
    {
     "name": "stdout",
     "output_type": "stream",
     "text": [
      " Inverse of covariance matix is \n",
      " \n",
      "[[1.30402459 0.64116094]\n",
      " [0.64116094 1.32175307]]\n"
     ]
    }
   ],
   "source": [
    "# Now inverse of covariance matrix is \n",
    "cov_inver = np.linalg.inv(COV)\n",
    "print(\" Inverse of covariance matix is \")\n",
    "print(\" \")\n",
    "print(cov_inver)"
   ]
  },
  {
   "cell_type": "code",
   "execution_count": 113,
   "metadata": {},
   "outputs": [
    {
     "name": "stdout",
     "output_type": "stream",
     "text": [
      "Prior probability for class 0 is \n",
      " \n",
      "0.5081967213114754\n"
     ]
    }
   ],
   "source": [
    "# Now find prior probability for class 0 \n",
    "pi_0 = n0/n # Total samples in class 0/total no. of samples\n",
    "print(\"Prior probability for class 0 is \")\n",
    "print(\" \")\n",
    "print(pi_0)"
   ]
  },
  {
   "cell_type": "code",
   "execution_count": 114,
   "metadata": {},
   "outputs": [
    {
     "name": "stdout",
     "output_type": "stream",
     "text": [
      "Prior probability for class 1 is \n",
      " \n",
      "0.4918032786885246\n"
     ]
    }
   ],
   "source": [
    "# Now find prior probability for class 1\n",
    "pi_1 = n1/n # Total samples in class 1/total no. of samples\n",
    "print(\"Prior probability for class 1 is \")\n",
    "print(\" \")\n",
    "print(pi_1)"
   ]
  },
  {
   "cell_type": "code",
   "execution_count": 115,
   "metadata": {},
   "outputs": [
    {
     "name": "stdout",
     "output_type": "stream",
     "text": [
      "0.03278982282299097\n"
     ]
    }
   ],
   "source": [
    "# Now finding terms\n",
    "pi = np.log(pi_0/pi_1)\n",
    "print(pi)"
   ]
  },
  {
   "cell_type": "code",
   "execution_count": 116,
   "metadata": {},
   "outputs": [
    {
     "name": "stdout",
     "output_type": "stream",
     "text": [
      " value of W0 is\n",
      " \n",
      "0.006395093639169135\n"
     ]
    }
   ],
   "source": [
    "# Now finding decision boundary \n",
    "one_term =  (pi - (1/2*(m_c0+m_c1).T))\n",
    "second_term = one_term.dot(cov_inver)\n",
    "W0 = second_term.dot(m_c0-m_c1)\n",
    "print(\" value of W0 is\")\n",
    "print(\" \")\n",
    "print(W0)"
   ]
  },
  {
   "cell_type": "code",
   "execution_count": 117,
   "metadata": {},
   "outputs": [
    {
     "name": "stdout",
     "output_type": "stream",
     "text": [
      " value of W1 is \n",
      " \n",
      "[-0.16654783  0.31678818]\n"
     ]
    }
   ],
   "source": [
    "# For the value  of W1\n",
    "W1 = cov_inver.dot(m_c0 - m_c1)\n",
    "print(\" value of W1 is \")\n",
    "print(\" \")\n",
    "print(W1)"
   ]
  },
  {
   "cell_type": "code",
   "execution_count": 118,
   "metadata": {},
   "outputs": [
    {
     "name": "stdout",
     "output_type": "stream",
     "text": [
      "[-0.53132556  0.44173285]\n"
     ]
    }
   ],
   "source": [
    "# now values of y separable\n",
    "Y_sep = (W1[0] * C0[i] + W1[1] * C1[i] + W0)\n",
    "print(Y_sep)"
   ]
  },
  {
   "cell_type": "code",
   "execution_count": 119,
   "metadata": {},
   "outputs": [
    {
     "data": {
      "image/png": "[encoded data removed]",
      "text/plain": [
       "<Figure size 432x288 with 1 Axes>"
      ]
     },
     "metadata": {
      "needs_background": "light"
     },
     "output_type": "display_data"
    }
   ],
   "source": [
    "# Now plot scatter between X1 and Y\n",
    "plt.scatter(X1 , C , c = \"red\")\n",
    "\n",
    "plt.xlabel(\"This is X1\")\n",
    "plt.ylabel(\"This is Y\")\n",
    "\n",
    "plt.title(\"Plot between X1 and Y\")\n",
    "plt.show()"
   ]
  },
  {
   "cell_type": "code",
   "execution_count": 120,
   "metadata": {},
   "outputs": [
    {
     "data": {
      "image/png": "[encoded data removed]",
      "text/plain": [
       "<Figure size 432x288 with 1 Axes>"
      ]
     },
     "metadata": {
      "needs_background": "light"
     },
     "output_type": "display_data"
    }
   ],
   "source": [
    "# Now plot scatter between X2 and Y\n",
    "plt.scatter(X2,C , c = \"black\")\n",
    "\n",
    "plt.xlabel(\"This is X2\")\n",
    "plt.ylabel(\"This is Y\")\n",
    "\n",
    "plt.title(\"Plot between X2 and Y\")\n",
    "plt.show()"
   ]
  },
  {
   "cell_type": "code",
   "execution_count": 125,
   "metadata": {},
   "outputs": [
    {
     "data": {
      "image/png": "[encoded data removed]",
      "text/plain": [
       "<Figure size 432x288 with 1 Axes>"
      ]
     },
     "metadata": {
      "needs_background": "light"
     },
     "output_type": "display_data"
    }
   ],
   "source": [
    "# Now for separating \n",
    "plt.scatter( X1 , C  , label = \"data points\")\n",
    "plt.plot([np.max(X) , np.min(X)] , [np.max(Y_sep) , np.min(Y_sep)] , color = \"red\" , label = \"Fitted line\")\n",
    "plt.xlabel(\"This is X\")\n",
    "plt.ylabel(\"This is Y\")\n",
    "plt.legend()\n",
    "plt.show()"
   ]
  },
  {
   "cell_type": "code",
   "execution_count": 124,
   "metadata": {},
   "outputs": [
    {
     "data": {
      "image/png": "[encoded data removed]",
      "text/plain": [
       "<Figure size 432x288 with 1 Axes>"
      ]
     },
     "metadata": {
      "needs_background": "light"
     },
     "output_type": "display_data"
    }
   ],
   "source": [
    "# Now for separating \n",
    "plt.scatter( X2 , C  , label = \"data points\")\n",
    "plt.plot([np.max(X) , np.min(X)] , [np.max(Y_sep) , np.min(Y_sep)] , color = \"red\" , label = \"Fitted line\")\n",
    "plt.xlabel(\"This is X\")\n",
    "plt.ylabel(\"This is Y\")\n",
    "plt.legend()\n",
    "plt.show()"
   ]
  },
  {
   "cell_type": "code",
   "execution_count": null,
   "metadata": {},
   "outputs": [],
   "source": []
  }
 ],
 "metadata": {
  "kernelspec": {
   "display_name": "Python 3",
   "language": "python",
   "name": "python3"
  },
  "language_info": {
   "codemirror_mode": {
    "name": "ipython",
    "version": 3
   },
   "file_extension": ".py",
   "mimetype": "text/x-python",
   "name": "python",
   "nbconvert_exporter": "python",
   "pygments_lexer": "ipython3",
   "version": "3.8.3"
  }
 },
 "nbformat": 4,
 "nbformat_minor": 4
}
