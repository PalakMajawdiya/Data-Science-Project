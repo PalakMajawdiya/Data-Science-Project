{
 "cells": [
  {
   "cell_type": "code",
   "execution_count": 4,
   "metadata": {},
   "outputs": [
    {
     "name": "stdout",
     "output_type": "stream",
     "text": [
      "list of months: January , February, March, April, May, June, July, August, September, October, November, December\n",
      "enter name of month: September\n",
      "No of days are: 30/31\n"
     ]
    }
   ],
   "source": [
    " '''Write a python program to convert month name to a number of days'''\n",
    " print(\"list of months: January , February, March, April, May, June, July, August, September, October, November, December\")\n",
    "month = input(\"enter name of month: \")\n",
    "if month == \"February\":\n",
    "    print(\"No. of days are: 28/29\")\n",
    "elif month in (\"April\", \"June\", \"September\", \"November\"):\n",
    "    print(\"No of days are: 30/31\")\n",
    "elif month in (\"January\", \"March\", \"May\", \"July\", \"August\", \"October\", \"December\"):\n",
    "    print(\"No of days are: 31/31\")"
   ]
  },
  {
   "cell_type": "code",
   "execution_count": null,
   "metadata": {},
   "outputs": [],
   "source": []
  }
 ],
 "metadata": {
  "kernelspec": {
   "display_name": "Python 3",
   "language": "python",
   "name": "python3"
  },
  "language_info": {
   "codemirror_mode": {
    "name": "ipython",
    "version": 3
   },
   "file_extension": ".py",
   "mimetype": "text/x-python",
   "name": "python",
   "nbconvert_exporter": "python",
   "pygments_lexer": "ipython3",
   "version": "3.8.3"
  }
 },
 "nbformat": 4,
 "nbformat_minor": 4
}
