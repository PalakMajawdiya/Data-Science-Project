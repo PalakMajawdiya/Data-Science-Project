{
 "cells": [
  {
   "cell_type": "markdown",
   "metadata": {},
   "source": [
    "**Multiple Linear Regression**"
   ]
  },
  {
   "cell_type": "code",
   "execution_count": 2,
   "metadata": {},
   "outputs": [
    {
     "name": "stdout",
     "output_type": "stream",
     "text": [
      "[[0.92 9.65 4.5 ]\n",
      " [0.76 8.87 3.5 ]\n",
      " [0.72 8.   4.5 ]\n",
      " [0.8  8.67 2.5 ]\n",
      " [0.65 8.21 3.  ]\n",
      " [0.9  9.34 3.  ]\n",
      " [0.75 8.2  4.  ]\n",
      " [0.68 7.9  1.5 ]\n",
      " [0.5  8.   3.  ]\n",
      " [0.45 8.6  4.  ]\n",
      " [0.52 8.4  4.5 ]\n",
      " [0.84 9.   4.5 ]\n",
      " [0.78 9.1  3.  ]\n",
      " [0.62 8.   2.  ]\n",
      " [0.62 8.2  2.5 ]\n",
      " [0.54 8.3  3.  ]\n",
      " [0.66 8.7  3.  ]\n",
      " [0.65 8.   3.  ]\n",
      " [0.63 8.8  3.  ]\n",
      " [0.63 8.5  3.  ]]\n"
     ]
    }
   ],
   "source": [
    "#Read Data from csv file\n",
    "import matplotlib.pyplot as plt\n",
    "import numpy as np\n",
    "import pandas as pd\n",
    "import csv\n",
    "\n",
    "# Load data from CSV file using numpy\n",
    "\n",
    "Data = np.loadtxt(r\"C:\\Users\\hp\\Documents\\Book.csv\",delimiter = ',' , skiprows = 1)\n",
    "print(Data)"
   ]
  },
  {
   "cell_type": "markdown",
   "metadata": {},
   "source": [
    "**Taking Transpose of data** "
   ]
  },
  {
   "cell_type": "code",
   "execution_count": 3,
   "metadata": {},
   "outputs": [
    {
     "name": "stdout",
     "output_type": "stream",
     "text": [
      "[[0.92 0.76 0.72 0.8  0.65 0.9  0.75 0.68 0.5  0.45 0.52 0.84 0.78 0.62\n",
      "  0.62 0.54 0.66 0.65 0.63 0.63]\n",
      " [9.65 8.87 8.   8.67 8.21 9.34 8.2  7.9  8.   8.6  8.4  9.   9.1  8.\n",
      "  8.2  8.3  8.7  8.   8.8  8.5 ]\n",
      " [4.5  3.5  4.5  2.5  3.   3.   4.   1.5  3.   4.   4.5  4.5  3.   2.\n",
      "  2.5  3.   3.   3.   3.   3.  ]]\n"
     ]
    }
   ],
   "source": [
    "Newdata = Data.T\n",
    "print(Newdata)"
   ]
  },
  {
   "cell_type": "code",
   "execution_count": 4,
   "metadata": {},
   "outputs": [
    {
     "name": "stdout",
     "output_type": "stream",
     "text": [
      "[0.92 0.76 0.72 0.8  0.65 0.9  0.75 0.68 0.5  0.45 0.52 0.84 0.78 0.62\n",
      " 0.62 0.54 0.66 0.65 0.63 0.63]\n"
     ]
    }
   ],
   "source": [
    "# extrating data of Y \n",
    "Y = Newdata[0]\n",
    "print(Y)"
   ]
  },
  {
   "cell_type": "code",
   "execution_count": 5,
   "metadata": {},
   "outputs": [
    {
     "name": "stdout",
     "output_type": "stream",
     "text": [
      "[9.65 8.87 8.   8.67 8.21 9.34 8.2  7.9  8.   8.6  8.4  9.   9.1  8.\n",
      " 8.2  8.3  8.7  8.   8.8  8.5 ]\n"
     ]
    }
   ],
   "source": [
    "# Extractig data for x1\n",
    "x1 = Newdata[1]\n",
    "print(x1)"
   ]
  },
  {
   "cell_type": "code",
   "execution_count": 6,
   "metadata": {},
   "outputs": [
    {
     "name": "stdout",
     "output_type": "stream",
     "text": [
      "[4.5 3.5 4.5 2.5 3.  3.  4.  1.5 3.  4.  4.5 4.5 3.  2.  2.5 3.  3.  3.\n",
      " 3.  3. ]\n"
     ]
    }
   ],
   "source": [
    "# Extracting data for x2\n",
    "x2 = Newdata[2]\n",
    "print(x2)"
   ]
  },
  {
   "cell_type": "code",
   "execution_count": 7,
   "metadata": {},
   "outputs": [
    {
     "name": "stdout",
     "output_type": "stream",
     "text": [
      " X1 is  \n",
      " \n",
      "[[9.65]\n",
      " [8.87]\n",
      " [8.  ]\n",
      " [8.67]\n",
      " [8.21]\n",
      " [9.34]\n",
      " [8.2 ]\n",
      " [7.9 ]\n",
      " [8.  ]\n",
      " [8.6 ]\n",
      " [8.4 ]\n",
      " [9.  ]\n",
      " [9.1 ]\n",
      " [8.  ]\n",
      " [8.2 ]\n",
      " [8.3 ]\n",
      " [8.7 ]\n",
      " [8.  ]\n",
      " [8.8 ]\n",
      " [8.5 ]]\n",
      " \n",
      " X2 is \n",
      " \n",
      "[[4.5]\n",
      " [3.5]\n",
      " [4.5]\n",
      " [2.5]\n",
      " [3. ]\n",
      " [3. ]\n",
      " [4. ]\n",
      " [1.5]\n",
      " [3. ]\n",
      " [4. ]\n",
      " [4.5]\n",
      " [4.5]\n",
      " [3. ]\n",
      " [2. ]\n",
      " [2.5]\n",
      " [3. ]\n",
      " [3. ]\n",
      " [3. ]\n",
      " [3. ]\n",
      " [3. ]]\n",
      " \n",
      " x0 is \n",
      " \n",
      "[[1.]\n",
      " [1.]\n",
      " [1.]\n",
      " [1.]\n",
      " [1.]\n",
      " [1.]\n",
      " [1.]\n",
      " [1.]\n",
      " [1.]\n",
      " [1.]\n",
      " [1.]\n",
      " [1.]\n",
      " [1.]\n",
      " [1.]\n",
      " [1.]\n",
      " [1.]\n",
      " [1.]\n",
      " [1.]\n",
      " [1.]\n",
      " [1.]]\n"
     ]
    }
   ],
   "source": [
    "# Reshape data for x1 and x2 and creating x0 vector having all 1's\n",
    "n = len(x1)\n",
    "X1 = np.array(x1).reshape(n,1)\n",
    "X2 = np.array(x2).reshape(n,1)\n",
    "y = np.array(Y).reshape(n,1)\n",
    "x0 = np.ones([n,1])\n",
    "print(\" X1 is  \")\n",
    "print(\" \")\n",
    "print(X1)\n",
    "print(\" \")\n",
    "print(\" X2 is \")\n",
    "print(\" \")\n",
    "print(X2)\n",
    "print(\" \")\n",
    "print(\" x0 is \")\n",
    "print(\" \")\n",
    "print(x0)"
   ]
  },
  {
   "cell_type": "code",
   "execution_count": 8,
   "metadata": {},
   "outputs": [
    {
     "name": "stdout",
     "output_type": "stream",
     "text": [
      "Normalization of x1 is \n",
      " \n",
      "[2.3499184070273875, 0.7249748276999365, -1.0874622415499084, 0.30832262787238707, -0.6499774317309782, 1.7041074972946826, -0.670810041722359, -1.2957883414636833, -1.0874622415499084, 0.16249435793274364, -0.25415784189480584, 0.9957987575878463, 1.204124857501621, -1.0874622415499084, -0.670810041722359, -0.4624839418085806, 0.37082045784651835, -1.0874622415499084, 0.5791465577602968, -0.045831741981031106]\n"
     ]
    }
   ],
   "source": [
    "# Normalize data for x1\n",
    "m_x1 = np.mean(x1)\n",
    "SD1 = np.std(x1)\n",
    "norm_x1 = []\n",
    "for xi in x1:\n",
    "    norm_x1.append((xi-m_x1)/SD1)\n",
    "print(\"Normalization of x1 is \")\n",
    "print(\" \")\n",
    "print(norm_x1)"
   ]
  },
  {
   "cell_type": "code",
   "execution_count": 9,
   "metadata": {},
   "outputs": [
    {
     "name": "stdout",
     "output_type": "stream",
     "text": [
      "Normalization of x2 is \n",
      " \n",
      "[1.507556722888818, 0.30151134457776363, 1.507556722888818, -0.9045340337332909, -0.30151134457776363, -0.30151134457776363, 0.9045340337332909, -2.1105794120443453, -0.30151134457776363, 0.9045340337332909, 1.507556722888818, 1.507556722888818, -0.30151134457776363, -1.507556722888818, -0.9045340337332909, -0.30151134457776363, -0.30151134457776363, -0.30151134457776363, -0.30151134457776363, -0.30151134457776363]\n"
     ]
    }
   ],
   "source": [
    "# Normalize data for x2\n",
    "m_x2 = np.mean(x2)\n",
    "SD2 = np.std(x2)\n",
    "norm_x2 = []\n",
    "for xi in x2:\n",
    "    norm_x2.append((xi-m_x2)/SD2)\n",
    "print(\"Normalization of x2 is \")\n",
    "print(\" \")\n",
    "print(norm_x2)"
   ]
  },
  {
   "cell_type": "code",
   "execution_count": 10,
   "metadata": {},
   "outputs": [
    {
     "name": "stdout",
     "output_type": "stream",
     "text": [
      "   X matrix is   \n",
      " \n",
      "[[ 1.          2.34991841  1.50755672]\n",
      " [ 1.          0.72497483  0.30151134]\n",
      " [ 1.         -1.08746224  1.50755672]\n",
      " [ 1.          0.30832263 -0.90453403]\n",
      " [ 1.         -0.64997743 -0.30151134]\n",
      " [ 1.          1.7041075  -0.30151134]\n",
      " [ 1.         -0.67081004  0.90453403]\n",
      " [ 1.         -1.29578834 -2.11057941]\n",
      " [ 1.         -1.08746224 -0.30151134]\n",
      " [ 1.          0.16249436  0.90453403]\n",
      " [ 1.         -0.25415784  1.50755672]\n",
      " [ 1.          0.99579876  1.50755672]\n",
      " [ 1.          1.20412486 -0.30151134]\n",
      " [ 1.         -1.08746224 -1.50755672]\n",
      " [ 1.         -0.67081004 -0.90453403]\n",
      " [ 1.         -0.46248394 -0.30151134]\n",
      " [ 1.          0.37082046 -0.30151134]\n",
      " [ 1.         -1.08746224 -0.30151134]\n",
      " [ 1.          0.57914656 -0.30151134]\n",
      " [ 1.         -0.04583174 -0.30151134]]\n"
     ]
    }
   ],
   "source": [
    "# Now reshape norm_x1 and norm_x2 and converting x0 , norm_x1 and norm_x2 into a single matrix X \n",
    "n = len(x1)\n",
    "norm_X1 = np.array(norm_x1).reshape(n,1)\n",
    "norm_X2 = np.array(norm_x2).reshape(n,1)\n",
    "X0 = np.array(x0).reshape(n,1)\n",
    "X = np.hstack((x0 , norm_X1 , norm_X2)) # hstack is a function in numpy used to concatenate x0 , norm_x1 and norm_x2\n",
    "print(\"   X matrix is   \")\n",
    "print(\" \")\n",
    "print(X)"
   ]
  },
  {
   "cell_type": "code",
   "execution_count": 11,
   "metadata": {},
   "outputs": [
    {
     "name": "stdout",
     "output_type": "stream",
     "text": [
      "Transpose of X matrix is \n",
      " \n",
      "[[ 1.          1.          1.          1.          1.          1.\n",
      "   1.          1.          1.          1.          1.          1.\n",
      "   1.          1.          1.          1.          1.          1.\n",
      "   1.          1.        ]\n",
      " [ 2.34991841  0.72497483 -1.08746224  0.30832263 -0.64997743  1.7041075\n",
      "  -0.67081004 -1.29578834 -1.08746224  0.16249436 -0.25415784  0.99579876\n",
      "   1.20412486 -1.08746224 -0.67081004 -0.46248394  0.37082046 -1.08746224\n",
      "   0.57914656 -0.04583174]\n",
      " [ 1.50755672  0.30151134  1.50755672 -0.90453403 -0.30151134 -0.30151134\n",
      "   0.90453403 -2.11057941 -0.30151134  0.90453403  1.50755672  1.50755672\n",
      "  -0.30151134 -1.50755672 -0.90453403 -0.30151134 -0.30151134 -0.30151134\n",
      "  -0.30151134 -0.30151134]]\n"
     ]
    }
   ],
   "source": [
    "# Taking transpose of matrix X\n",
    "print(\"Transpose of X matrix is \")\n",
    "print(\" \")\n",
    "print(X.T)"
   ]
  },
  {
   "cell_type": "code",
   "execution_count": 12,
   "metadata": {},
   "outputs": [
    {
     "name": "stdout",
     "output_type": "stream",
     "text": [
      "[[ 1.00000000e+00 -5.50948176e-16 -4.44089210e-17]\n",
      " [-5.50948176e-16  1.00000000e+00  3.66197939e-01]\n",
      " [-4.44089210e-17  3.66197939e-01  1.00000000e+00]]\n"
     ]
    }
   ],
   "source": [
    "# Correlation Matrix\n",
    "cor =  (X.T.dot(X)/n) \n",
    "print(cor)"
   ]
  },
  {
   "cell_type": "code",
   "execution_count": 13,
   "metadata": {},
   "outputs": [
    {
     "name": "stdout",
     "output_type": "stream",
     "text": [
      "  multiplication of X.T and X \n",
      " \n",
      "[[ 2.00000000e+01 -1.10189635e-14 -8.88178420e-16]\n",
      " [-1.10189635e-14  2.00000000e+01  7.32395878e+00]\n",
      " [-8.88178420e-16  7.32395878e+00  2.00000000e+01]]\n"
     ]
    }
   ],
   "source": [
    "# Now multiply trans_X and X matrix\n",
    "print(\"  multiplication of X.T and X \")\n",
    "print(\" \")\n",
    "trans_x_X =  X.T.dot(X) # dot function is used for multiplication in numpy\n",
    "print(trans_x_X)"
   ]
  },
  {
   "cell_type": "markdown",
   "metadata": {},
   "source": [
    "**Correlation matrix is helpful in detecting problem of multicollinearity so in this dataset \n",
    "our daigonal matrix of correlation matrix are unity and off diagonal elements are not tends to unity and our\n",
    "matrix is symmetric so there is no multicollinearity in our data**"
   ]
  },
  {
   "cell_type": "code",
   "execution_count": 14,
   "metadata": {},
   "outputs": [
    {
     "name": "stdout",
     "output_type": "stream",
     "text": [
      "  inverse of ((X.T).X) is \n",
      " \n",
      "[[ 5.00000000e-02  3.08745984e-17 -9.08576825e-18]\n",
      " [ 3.08745984e-17  5.77434504e-02 -2.11455325e-02]\n",
      " [-9.08576825e-18 -2.11455325e-02  5.77434504e-02]]\n"
     ]
    }
   ],
   "source": [
    "# Taking inverse of trans_x_X\n",
    "print(\"  inverse of ((X.T).X) is \")\n",
    "print(\" \")\n",
    "inv = np.linalg.inv(trans_x_X)\n",
    "print(inv)"
   ]
  },
  {
   "cell_type": "code",
   "execution_count": 15,
   "metadata": {},
   "outputs": [
    {
     "name": "stdout",
     "output_type": "stream",
     "text": [
      "[[ 0.05        0.05        0.05        0.05        0.05        0.05\n",
      "   0.05        0.05        0.05        0.05        0.05        0.05\n",
      "   0.05        0.05        0.05        0.05        0.05        0.05\n",
      "   0.05        0.05      ]\n",
      " [ 0.10381431  0.03548693 -0.09467191  0.03693047 -0.03115632  0.10477666\n",
      "  -0.05786174 -0.03019396 -0.0564182  -0.00974387 -0.04655404  0.02562277\n",
      "   0.07590594 -0.03091573 -0.01960803 -0.0203298   0.02778807 -0.0564182\n",
      "   0.03981754  0.00372914]\n",
      " [ 0.03736125  0.00208033  0.1100465  -0.05875056 -0.00366619 -0.05344457\n",
      "   0.06641555 -0.094472    0.00558466  0.04879489  0.09242583  0.06599483\n",
      "  -0.04287217 -0.06405656 -0.03804628 -0.00763084 -0.0252515   0.00558466\n",
      "  -0.02965667 -0.01644117]]\n"
     ]
    }
   ],
   "source": [
    "# Now Multiply inverse of ((X.T).X) and X.T \n",
    "MUL = inv.dot(X.T)\n",
    "print(MUL)"
   ]
  },
  {
   "cell_type": "code",
   "execution_count": 16,
   "metadata": {},
   "outputs": [
    {
     "name": "stdout",
     "output_type": "stream",
     "text": [
      " coefficient are \n",
      " \n",
      "[[ 0.681     ]\n",
      " [ 0.0847067 ]\n",
      " [-0.01142118]]\n"
     ]
    }
   ],
   "source": [
    "# Now calculate beta \n",
    "print(\" coefficient are \")\n",
    "print(\" \")\n",
    "beta = MUL.dot(y)\n",
    "print(beta)"
   ]
  },
  {
   "cell_type": "code",
   "execution_count": 27,
   "metadata": {},
   "outputs": [
    {
     "name": "stdout",
     "output_type": "stream",
     "text": [
      "Predicted values of Y are \n",
      " \n",
      "[0.86283576 0.73896661 0.57166659 0.71744784 0.62938617 0.82879294\n",
      " 0.61384705 0.59534335 0.59232828 0.68443351 0.64225305 0.74813275\n",
      " 0.78644106 0.60610274 0.63450874 0.64526813 0.71585459 0.59232828\n",
      " 0.73350121 0.68056136]\n"
     ]
    }
   ],
   "source": [
    "# Predicted valus of y \n",
    "beta_2 = -0.01142118\n",
    "beta_1 = 0.0847067\n",
    "beta_0 =  0.681  \n",
    "Y_pred = np.array([])\n",
    "for i in range(len(y)):\n",
    "    Y_pred = np.append(Y_pred , beta_0 * x0[i] + beta_1 * norm_x1[i] + beta_2 * norm_x2[i])\n",
    "print(\"Predicted values of Y are \")\n",
    "print(\" \")\n",
    "print(Y_pred)"
   ]
  },
  {
   "cell_type": "code",
   "execution_count": 18,
   "metadata": {},
   "outputs": [
    {
     "name": "stdout",
     "output_type": "stream",
     "text": [
      "Sources\t\tDF  \t\tSS\t\t\tMS\t\t\tF statistics\t\t\tSignificance F\n",
      "Regression\t2\t0.1319422328543277\t0.06597111642716386\t\t6.167635033989937\t\t0.009683\n",
      "Residual\t17\t0.18183776651522526\t0.010696339206777957\n",
      "Total\t\t19\t0.31378000000000006\n"
     ]
    }
   ],
   "source": [
    "# Anova Table \n",
    "# Degree of freedom\n",
    "K = len(beta)\n",
    "DF_REG = K - 1\n",
    "DF_RES = len(X) - K \n",
    "DF_TOT = len(X) - 1\n",
    "\n",
    "# Sum of square\n",
    "m_y = np.mean(y)\n",
    "error = Y - Y_pred\n",
    "\n",
    "# SS Residual \n",
    "SS_res = np.sum(error**2)\n",
    "\n",
    "# SS Regression\n",
    "\n",
    "SS_Reg = np.sum((Y_pred - m_y)**2)\n",
    "\n",
    "# SS Total\n",
    "SS_total = np.sum((y - m_y)**2)\n",
    "\n",
    "# MS Residual\n",
    "\n",
    "MS_Res = SS_res/DF_RES\n",
    "\n",
    "# MS Regression\n",
    "\n",
    "MS_Reg = SS_Reg/DF_REG\n",
    "\n",
    "# F Statistics\n",
    "\n",
    "F = MS_Reg/MS_Res\n",
    "\n",
    "# Printing Anova table\n",
    "print('{0}\\t\\t{1}\\t\\t{2}\\t\\t\\t{3}\\t\\t\\t{4}\\t\\t\\t{5}'.format( \"Sources\",\"DF  \" , \"SS\" , \"MS\" , \"F statistics\",\"Significance F\"))\n",
    "print('{0}\\t{1}\\t{2}\\t{3}\\t\\t{4}\\t\\t{5}'.format( \"Regression\" ,DF_REG , SS_Reg , MS_Reg , F , 0.009683))\n",
    "print('{0}\\t{1}\\t{2}\\t{3}'.format(\"Residual\",DF_RES , SS_res , MS_Res))\n",
    "print('{0}\\t\\t{1}\\t{2}'.format(\"Total\",  DF_TOT , SS_total ))\n"
   ]
  },
  {
   "cell_type": "markdown",
   "metadata": {},
   "source": [
    "**So here the value F > Significance F which indicates that model is very good**"
   ]
  },
  {
   "cell_type": "code",
   "execution_count": 26,
   "metadata": {},
   "outputs": [
    {
     "data": {
      "image/png": "[encoded data removed]",
      "text/plain": [
       "<Figure size 720x576 with 1 Axes>"
      ]
     },
     "metadata": {
      "needs_background": "light"
     },
     "output_type": "display_data"
    }
   ],
   "source": [
    "# Scatter plot\n",
    "from mpl_toolkits.mplot3d import Axes3D\n",
    "fig = plt.figure(figsize=(10,8))\n",
    "ax = fig.add_subplot(111, projection='3d')\n",
    "ax.scatter(X1, X2, y, c='red', marker='D')\n",
    "\n",
    "plt.title(\" Multiple Regression plot\")\n",
    "\n",
    "ax.set_xlabel('X1 Label')\n",
    "ax.set_ylabel('X2 Label')\n",
    "ax.set_zlabel('Y Label')\n",
    "\n",
    "plt.show()"
   ]
  },
  {
   "cell_type": "code",
   "execution_count": null,
   "metadata": {},
   "outputs": [],
   "source": []
  }
 ],
 "metadata": {
  "kernelspec": {
   "display_name": "Python 3",
   "language": "python",
   "name": "python3"
  },
  "language_info": {
   "codemirror_mode": {
    "name": "ipython",
    "version": 3
   },
   "file_extension": ".py",
   "mimetype": "text/x-python",
   "name": "python",
   "nbconvert_exporter": "python",
   "pygments_lexer": "ipython3",
   "version": "3.8.3"
  }
 },
 "nbformat": 4,
 "nbformat_minor": 4
}
