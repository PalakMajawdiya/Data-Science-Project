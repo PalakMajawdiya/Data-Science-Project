{
 "cells": [
  {
   "cell_type": "markdown",
   "metadata": {},
   "source": [
    "**LAB ASSIGNMENT 5**"
   ]
  },
  {
   "cell_type": "code",
   "execution_count": 2,
   "metadata": {},
   "outputs": [
    {
     "name": "stdout",
     "output_type": "stream",
     "text": [
      "[(1, 5.5), (5.5, 11)]\n",
      "Number\tFrequency\n",
      "(1, 5.5)\t6\n",
      "(5.5, 11)\t14\n"
     ]
    }
   ],
   "source": [
    "# Creating frequency table\n",
    "from collections import Counter\n",
    "def create_classes(numbers , n):\n",
    "    low = min(numbers) \n",
    "    high = max(numbers) \n",
    "    # width of each class\n",
    "    width = (high - low)/n \n",
    "    a = low # 1\n",
    "    b = low + width \n",
    "    classes = []\n",
    "    while a < (high - width):\n",
    "        classes.append((a,b))\n",
    "        a = b\n",
    "        b = a+ width\n",
    "    classes.append(( a , high + 1))\n",
    "    return classes\n",
    "\n",
    "def frequency_table(numb , num):\n",
    "    table = Counter(numb)\n",
    "    table1 = Counter(num)\n",
    "    value = table1.most_common()\n",
    "    f = 0\n",
    "    print('Number\\tFrequency')\n",
    "    for number in table.most_common():\n",
    "        for x in value:\n",
    "            if x[0] >= number[0][0] and x[0] <= number[0][1]:\n",
    "                f = f + x[1]\n",
    "        print(\"{0}\\t{1}\".format(number[0],f))\n",
    "        f = 0\n",
    "    \n",
    "if __name__==\"__main__\":\n",
    "    num = [7,8,9,2,10,9,9,9,9,4,5,6,1,5,6,7,8,6,1,10]\n",
    "    scores = create_classes(num , 2)\n",
    "    print(scores)\n",
    "    frequency_table(scores , num)"
   ]
  },
  {
   "cell_type": "code",
   "execution_count": null,
   "metadata": {},
   "outputs": [],
   "source": []
  }
 ],
 "metadata": {
  "kernelspec": {
   "display_name": "Python 3",
   "language": "python",
   "name": "python3"
  },
  "language_info": {
   "codemirror_mode": {
    "name": "ipython",
    "version": 3
   },
   "file_extension": ".py",
   "mimetype": "text/x-python",
   "name": "python",
   "nbconvert_exporter": "python",
   "pygments_lexer": "ipython3",
   "version": "3.8.3"
  }
 },
 "nbformat": 4,
 "nbformat_minor": 4
}
